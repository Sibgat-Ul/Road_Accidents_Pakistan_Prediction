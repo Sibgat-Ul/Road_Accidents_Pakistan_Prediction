{
  "cells": [
    {
      "cell_type": "markdown",
      "metadata": {
        "id": "view-in-github",
        "colab_type": "text"
      },
      "source": [
        "<a href=\"https://colab.research.google.com/github/Sibgat-Ul/Road_Accidents_Pakistan_Prediction/blob/main/toonsquad_445_7_assignment_2_sib.ipynb\" target=\"_parent\"><img src=\"https://colab.research.google.com/assets/colab-badge.svg\" alt=\"Open In Colab\"/></a>"
      ]
    },
    {
      "metadata": {
        "id": "aa8db4b38bb81f78"
      },
      "cell_type": "markdown",
      "source": [
        "### Group_Name: ToonSquad\n",
        "    - Imroz Rahim - 2011129\n",
        "    - Iffaat Ara Mehnaz - 2031340\n",
        "    - Sibgat Ul Islam - 2111920"
      ],
      "id": "aa8db4b38bb81f78"
    },
    {
      "metadata": {
        "id": "535123730437641e"
      },
      "cell_type": "markdown",
      "source": [
        "### Import the libraries"
      ],
      "id": "535123730437641e"
    },
    {
      "cell_type": "code",
      "id": "initial_id",
      "metadata": {
        "collapsed": true,
        "id": "initial_id",
        "ExecuteTime": {
          "end_time": "2024-09-24T16:34:36.350973Z",
          "start_time": "2024-09-24T16:34:36.212452Z"
        },
        "colab": {
          "base_uri": "https://localhost:8080/"
        },
        "outputId": "5ed37a3b-b2f3-449b-ed87-c7ece088b638"
      },
      "source": [
        "import pandas as pd\n",
        "import numpy as np\n",
        "from openpyxl.styles.builtins import total\n",
        "\n",
        "import seaborn as sns\n",
        "import matplotlib.pyplot as plt\n",
        "\n",
        "import warnings\n",
        "import nltk\n",
        "\n",
        "from google.colab import drive\n",
        "drive.mount('/content/drive')\n",
        "\n",
        "warnings.filterwarnings('ignore')\n",
        "nltk.download('stopwords')\n",
        "nltk.download(\"wordnet\")\n",
        "nltk.download(\"omw-1.4\")\n",
        "nltk.download('punkt')"
      ],
      "outputs": [
        {
          "output_type": "stream",
          "name": "stdout",
          "text": [
            "Drive already mounted at /content/drive; to attempt to forcibly remount, call drive.mount(\"/content/drive\", force_remount=True).\n"
          ]
        },
        {
          "output_type": "stream",
          "name": "stderr",
          "text": [
            "[nltk_data] Downloading package stopwords to /root/nltk_data...\n",
            "[nltk_data]   Package stopwords is already up-to-date!\n",
            "[nltk_data] Downloading package wordnet to /root/nltk_data...\n",
            "[nltk_data]   Package wordnet is already up-to-date!\n",
            "[nltk_data] Downloading package omw-1.4 to /root/nltk_data...\n",
            "[nltk_data]   Package omw-1.4 is already up-to-date!\n",
            "[nltk_data] Downloading package punkt to /root/nltk_data...\n",
            "[nltk_data]   Package punkt is already up-to-date!\n"
          ]
        },
        {
          "output_type": "execute_result",
          "data": {
            "text/plain": [
              "True"
            ]
          },
          "metadata": {},
          "execution_count": 7
        }
      ],
      "execution_count": 7
    },
    {
      "cell_type": "code",
      "source": [
        "!gzip -d drive/MyDrive/w2v_gn_pretrained.bin.gz && ls"
      ],
      "metadata": {
        "colab": {
          "base_uri": "https://localhost:8080/"
        },
        "id": "skAejAbpzG2C",
        "outputId": "86abc506-4345-49f6-f8fa-8d58ba402903"
      },
      "id": "skAejAbpzG2C",
      "execution_count": null,
      "outputs": [
        {
          "output_type": "stream",
          "name": "stdout",
          "text": [
            "drive  sample_data\n"
          ]
        }
      ]
    },
    {
      "cell_type": "code",
      "source": [
        "!git clone https://github.com/Sibgat-Ul/Road_Accidents_Pakistan_Prediction/ && mv ./Road_Accidents_Pakistan_Prediction/* ./"
      ],
      "metadata": {
        "id": "-kcbmuylHOiZ",
        "ExecuteTime": {
          "end_time": "2024-09-24T16:34:36.122818Z",
          "start_time": "2024-09-24T16:34:36.120820Z"
        },
        "colab": {
          "base_uri": "https://localhost:8080/"
        },
        "outputId": "47aaa9f8-2bc1-4e3d-80b0-bf8488436c7f"
      },
      "id": "-kcbmuylHOiZ",
      "outputs": [
        {
          "output_type": "stream",
          "name": "stdout",
          "text": [
            "Cloning into 'Road_Accidents_Pakistan_Prediction'...\n",
            "remote: Enumerating objects: 56, done.\u001b[K\n",
            "remote: Counting objects: 100% (56/56), done.\u001b[K\n",
            "remote: Compressing objects: 100% (46/46), done.\u001b[K\n",
            "remote: Total 56 (delta 23), reused 33 (delta 9), pack-reused 0 (from 0)\u001b[K\n",
            "Receiving objects: 100% (56/56), 25.76 MiB | 13.77 MiB/s, done.\n",
            "Resolving deltas: 100% (23/23), done.\n"
          ]
        }
      ],
      "execution_count": 8
    },
    {
      "metadata": {
        "id": "9eb27007cfbfc575",
        "ExecuteTime": {
          "end_time": "2024-09-24T16:34:43.686801Z",
          "start_time": "2024-09-24T16:34:36.447384Z"
        }
      },
      "cell_type": "code",
      "source": [
        "# Importing the dataset\n",
        "\n",
        "rta_dataset = pd.read_excel('./data/RTA Data 2020 to July 2023.xlsx')"
      ],
      "id": "9eb27007cfbfc575",
      "outputs": [],
      "execution_count": 87
    },
    {
      "metadata": {
        "id": "30b002dc5ae943da"
      },
      "cell_type": "markdown",
      "source": [
        "#### Few helper functions:"
      ],
      "id": "30b002dc5ae943da"
    },
    {
      "metadata": {
        "id": "3185c42f6f8485e3",
        "ExecuteTime": {
          "end_time": "2024-09-24T16:34:36.362869Z",
          "start_time": "2024-09-24T16:34:36.359261Z"
        }
      },
      "cell_type": "code",
      "source": [
        "def get_cat_cols(df: pd.DataFrame) -> list:\n",
        "    \"\"\"\"\n",
        "    :param df: Dataframe\n",
        "    :return: list of column names\n",
        "\n",
        "    to get categorical columns\n",
        "    \"\"\"\n",
        "    return [col for col in df.columns if df[col].dtype == 'object']\n",
        "\n",
        "def get_num_cols(df):\n",
        "    \"\"\"\"\n",
        "    :param df: Dataframe\n",
        "    :return: list of column names\n",
        "\n",
        "    to get num columns\n",
        "    \"\"\"\n",
        "    return [col for col in df.columns if df[col].dtype != 'object']\n",
        "\n",
        "def get_info(dataset: pd.DataFrame):\n",
        "    \"\"\"\n",
        "\n",
        "    :param dataset: pd.DataFrame\n",
        "    :return: pd.DataFrame\n",
        "\n",
        "    Makes a new df with missing and unique values.\n",
        "    \"\"\"\n",
        "    new_df = pd.DataFrame()\n",
        "    new_df['missing_count'] = dataset.isnull().sum()\n",
        "    new_df['total'] = dataset.shape[0]\n",
        "    new_df['missing%'] = (dataset.isnull().sum() / dataset.shape[0])*100\n",
        "    new_df['n_unique'] = dataset.nunique()\n",
        "    new_df['type'] = dataset.dtypes\n",
        "    print(f\"Size: {rta_dataset.shape}\")\n",
        "    return new_df"
      ],
      "id": "3185c42f6f8485e3",
      "outputs": [],
      "execution_count": 88
    },
    {
      "cell_type": "code",
      "source": [
        "cat_cols = get_cat_cols(rta_dataset)\n",
        "num_cols = get_num_cols(rta_dataset)"
      ],
      "metadata": {
        "id": "D2YRo0BhaCRs"
      },
      "id": "D2YRo0BhaCRs",
      "execution_count": 89,
      "outputs": []
    },
    {
      "metadata": {
        "id": "20f7e88cc93a873"
      },
      "cell_type": "markdown",
      "source": [
        "### Some info of the dataset"
      ],
      "id": "20f7e88cc93a873"
    },
    {
      "metadata": {
        "id": "47eab2c0dac804d6",
        "ExecuteTime": {
          "end_time": "2024-09-24T16:34:43.775979Z",
          "start_time": "2024-09-24T16:34:43.721100Z"
        },
        "colab": {
          "base_uri": "https://localhost:8080/",
          "height": 851
        },
        "outputId": "ee6592c8-be21-4b9c-9bfb-a0949ed63ba4"
      },
      "cell_type": "code",
      "source": [
        "info_df = get_info(rta_dataset)\n",
        "info_df"
      ],
      "id": "47eab2c0dac804d6",
      "outputs": [
        {
          "output_type": "stream",
          "name": "stdout",
          "text": [
            "Size: (46189, 25)\n"
          ]
        },
        {
          "output_type": "execute_result",
          "data": {
            "text/plain": [
              "                          missing_count  total   missing%  n_unique  \\\n",
              "EcYear                                0  46189   0.000000         5   \n",
              "EcNumber                           7211  46189  15.611942     34800   \n",
              "CallTime                           5956  46189  12.894845     40170   \n",
              "EmergencyArea                         1  46189   0.002165     37520   \n",
              "TotalPatientsInEmergency              0  46189   0.000000        13   \n",
              "Gender                                1  46189   0.002165         4   \n",
              "Age                                   1  46189   0.002165       100   \n",
              "HospitalName                      21950  46189  47.522137       162   \n",
              "Reason                                1  46189   0.002165     23940   \n",
              "responsetime                          5  46189   0.010825        68   \n",
              "EducationTitle                        1  46189   0.002165         9   \n",
              "InjuryType                            2  46189   0.004330         5   \n",
              "Cause                                 2  46189   0.004330         7   \n",
              "PatientStatus                         2  46189   0.004330         3   \n",
              "BicycleInvovled                       2  46189   0.004330         3   \n",
              "BikesInvolved                         2  46189   0.004330         5   \n",
              "BusesInvolved                         2  46189   0.004330         3   \n",
              "CarsInvolved                          2  46189   0.004330         6   \n",
              "CartInvovled                          2  46189   0.004330         2   \n",
              "RickshawsInvolved                     2  46189   0.004330         3   \n",
              "TractorInvovled                       2  46189   0.004330         2   \n",
              "TrainsInvovled                        2  46189   0.004330         2   \n",
              "TrucksInvolved                        2  46189   0.004330         4   \n",
              "VansInvolved                          2  46189   0.004330         5   \n",
              "OthersInvolved                        2  46189   0.004330         3   \n",
              "\n",
              "                                    type  \n",
              "EcYear                            object  \n",
              "EcNumber                          object  \n",
              "CallTime                  datetime64[ns]  \n",
              "EmergencyArea                     object  \n",
              "TotalPatientsInEmergency          object  \n",
              "Gender                            object  \n",
              "Age                              float64  \n",
              "HospitalName                      object  \n",
              "Reason                            object  \n",
              "responsetime                     float64  \n",
              "EducationTitle                    object  \n",
              "InjuryType                        object  \n",
              "Cause                             object  \n",
              "PatientStatus                     object  \n",
              "BicycleInvovled                  float64  \n",
              "BikesInvolved                    float64  \n",
              "BusesInvolved                    float64  \n",
              "CarsInvolved                     float64  \n",
              "CartInvovled                     float64  \n",
              "RickshawsInvolved                float64  \n",
              "TractorInvovled                  float64  \n",
              "TrainsInvovled                   float64  \n",
              "TrucksInvolved                   float64  \n",
              "VansInvolved                     float64  \n",
              "OthersInvolved                   float64  "
            ],
            "text/html": [
              "\n",
              "  <div id=\"df-c0e57c47-14a7-4a3a-a5d4-335774ebfb45\" class=\"colab-df-container\">\n",
              "    <div>\n",
              "<style scoped>\n",
              "    .dataframe tbody tr th:only-of-type {\n",
              "        vertical-align: middle;\n",
              "    }\n",
              "\n",
              "    .dataframe tbody tr th {\n",
              "        vertical-align: top;\n",
              "    }\n",
              "\n",
              "    .dataframe thead th {\n",
              "        text-align: right;\n",
              "    }\n",
              "</style>\n",
              "<table border=\"1\" class=\"dataframe\">\n",
              "  <thead>\n",
              "    <tr style=\"text-align: right;\">\n",
              "      <th></th>\n",
              "      <th>missing_count</th>\n",
              "      <th>total</th>\n",
              "      <th>missing%</th>\n",
              "      <th>n_unique</th>\n",
              "      <th>type</th>\n",
              "    </tr>\n",
              "  </thead>\n",
              "  <tbody>\n",
              "    <tr>\n",
              "      <th>EcYear</th>\n",
              "      <td>0</td>\n",
              "      <td>46189</td>\n",
              "      <td>0.000000</td>\n",
              "      <td>5</td>\n",
              "      <td>object</td>\n",
              "    </tr>\n",
              "    <tr>\n",
              "      <th>EcNumber</th>\n",
              "      <td>7211</td>\n",
              "      <td>46189</td>\n",
              "      <td>15.611942</td>\n",
              "      <td>34800</td>\n",
              "      <td>object</td>\n",
              "    </tr>\n",
              "    <tr>\n",
              "      <th>CallTime</th>\n",
              "      <td>5956</td>\n",
              "      <td>46189</td>\n",
              "      <td>12.894845</td>\n",
              "      <td>40170</td>\n",
              "      <td>datetime64[ns]</td>\n",
              "    </tr>\n",
              "    <tr>\n",
              "      <th>EmergencyArea</th>\n",
              "      <td>1</td>\n",
              "      <td>46189</td>\n",
              "      <td>0.002165</td>\n",
              "      <td>37520</td>\n",
              "      <td>object</td>\n",
              "    </tr>\n",
              "    <tr>\n",
              "      <th>TotalPatientsInEmergency</th>\n",
              "      <td>0</td>\n",
              "      <td>46189</td>\n",
              "      <td>0.000000</td>\n",
              "      <td>13</td>\n",
              "      <td>object</td>\n",
              "    </tr>\n",
              "    <tr>\n",
              "      <th>Gender</th>\n",
              "      <td>1</td>\n",
              "      <td>46189</td>\n",
              "      <td>0.002165</td>\n",
              "      <td>4</td>\n",
              "      <td>object</td>\n",
              "    </tr>\n",
              "    <tr>\n",
              "      <th>Age</th>\n",
              "      <td>1</td>\n",
              "      <td>46189</td>\n",
              "      <td>0.002165</td>\n",
              "      <td>100</td>\n",
              "      <td>float64</td>\n",
              "    </tr>\n",
              "    <tr>\n",
              "      <th>HospitalName</th>\n",
              "      <td>21950</td>\n",
              "      <td>46189</td>\n",
              "      <td>47.522137</td>\n",
              "      <td>162</td>\n",
              "      <td>object</td>\n",
              "    </tr>\n",
              "    <tr>\n",
              "      <th>Reason</th>\n",
              "      <td>1</td>\n",
              "      <td>46189</td>\n",
              "      <td>0.002165</td>\n",
              "      <td>23940</td>\n",
              "      <td>object</td>\n",
              "    </tr>\n",
              "    <tr>\n",
              "      <th>responsetime</th>\n",
              "      <td>5</td>\n",
              "      <td>46189</td>\n",
              "      <td>0.010825</td>\n",
              "      <td>68</td>\n",
              "      <td>float64</td>\n",
              "    </tr>\n",
              "    <tr>\n",
              "      <th>EducationTitle</th>\n",
              "      <td>1</td>\n",
              "      <td>46189</td>\n",
              "      <td>0.002165</td>\n",
              "      <td>9</td>\n",
              "      <td>object</td>\n",
              "    </tr>\n",
              "    <tr>\n",
              "      <th>InjuryType</th>\n",
              "      <td>2</td>\n",
              "      <td>46189</td>\n",
              "      <td>0.004330</td>\n",
              "      <td>5</td>\n",
              "      <td>object</td>\n",
              "    </tr>\n",
              "    <tr>\n",
              "      <th>Cause</th>\n",
              "      <td>2</td>\n",
              "      <td>46189</td>\n",
              "      <td>0.004330</td>\n",
              "      <td>7</td>\n",
              "      <td>object</td>\n",
              "    </tr>\n",
              "    <tr>\n",
              "      <th>PatientStatus</th>\n",
              "      <td>2</td>\n",
              "      <td>46189</td>\n",
              "      <td>0.004330</td>\n",
              "      <td>3</td>\n",
              "      <td>object</td>\n",
              "    </tr>\n",
              "    <tr>\n",
              "      <th>BicycleInvovled</th>\n",
              "      <td>2</td>\n",
              "      <td>46189</td>\n",
              "      <td>0.004330</td>\n",
              "      <td>3</td>\n",
              "      <td>float64</td>\n",
              "    </tr>\n",
              "    <tr>\n",
              "      <th>BikesInvolved</th>\n",
              "      <td>2</td>\n",
              "      <td>46189</td>\n",
              "      <td>0.004330</td>\n",
              "      <td>5</td>\n",
              "      <td>float64</td>\n",
              "    </tr>\n",
              "    <tr>\n",
              "      <th>BusesInvolved</th>\n",
              "      <td>2</td>\n",
              "      <td>46189</td>\n",
              "      <td>0.004330</td>\n",
              "      <td>3</td>\n",
              "      <td>float64</td>\n",
              "    </tr>\n",
              "    <tr>\n",
              "      <th>CarsInvolved</th>\n",
              "      <td>2</td>\n",
              "      <td>46189</td>\n",
              "      <td>0.004330</td>\n",
              "      <td>6</td>\n",
              "      <td>float64</td>\n",
              "    </tr>\n",
              "    <tr>\n",
              "      <th>CartInvovled</th>\n",
              "      <td>2</td>\n",
              "      <td>46189</td>\n",
              "      <td>0.004330</td>\n",
              "      <td>2</td>\n",
              "      <td>float64</td>\n",
              "    </tr>\n",
              "    <tr>\n",
              "      <th>RickshawsInvolved</th>\n",
              "      <td>2</td>\n",
              "      <td>46189</td>\n",
              "      <td>0.004330</td>\n",
              "      <td>3</td>\n",
              "      <td>float64</td>\n",
              "    </tr>\n",
              "    <tr>\n",
              "      <th>TractorInvovled</th>\n",
              "      <td>2</td>\n",
              "      <td>46189</td>\n",
              "      <td>0.004330</td>\n",
              "      <td>2</td>\n",
              "      <td>float64</td>\n",
              "    </tr>\n",
              "    <tr>\n",
              "      <th>TrainsInvovled</th>\n",
              "      <td>2</td>\n",
              "      <td>46189</td>\n",
              "      <td>0.004330</td>\n",
              "      <td>2</td>\n",
              "      <td>float64</td>\n",
              "    </tr>\n",
              "    <tr>\n",
              "      <th>TrucksInvolved</th>\n",
              "      <td>2</td>\n",
              "      <td>46189</td>\n",
              "      <td>0.004330</td>\n",
              "      <td>4</td>\n",
              "      <td>float64</td>\n",
              "    </tr>\n",
              "    <tr>\n",
              "      <th>VansInvolved</th>\n",
              "      <td>2</td>\n",
              "      <td>46189</td>\n",
              "      <td>0.004330</td>\n",
              "      <td>5</td>\n",
              "      <td>float64</td>\n",
              "    </tr>\n",
              "    <tr>\n",
              "      <th>OthersInvolved</th>\n",
              "      <td>2</td>\n",
              "      <td>46189</td>\n",
              "      <td>0.004330</td>\n",
              "      <td>3</td>\n",
              "      <td>float64</td>\n",
              "    </tr>\n",
              "  </tbody>\n",
              "</table>\n",
              "</div>\n",
              "    <div class=\"colab-df-buttons\">\n",
              "\n",
              "  <div class=\"colab-df-container\">\n",
              "    <button class=\"colab-df-convert\" onclick=\"convertToInteractive('df-c0e57c47-14a7-4a3a-a5d4-335774ebfb45')\"\n",
              "            title=\"Convert this dataframe to an interactive table.\"\n",
              "            style=\"display:none;\">\n",
              "\n",
              "  <svg xmlns=\"http://www.w3.org/2000/svg\" height=\"24px\" viewBox=\"0 -960 960 960\">\n",
              "    <path d=\"M120-120v-720h720v720H120Zm60-500h600v-160H180v160Zm220 220h160v-160H400v160Zm0 220h160v-160H400v160ZM180-400h160v-160H180v160Zm440 0h160v-160H620v160ZM180-180h160v-160H180v160Zm440 0h160v-160H620v160Z\"/>\n",
              "  </svg>\n",
              "    </button>\n",
              "\n",
              "  <style>\n",
              "    .colab-df-container {\n",
              "      display:flex;\n",
              "      gap: 12px;\n",
              "    }\n",
              "\n",
              "    .colab-df-convert {\n",
              "      background-color: #E8F0FE;\n",
              "      border: none;\n",
              "      border-radius: 50%;\n",
              "      cursor: pointer;\n",
              "      display: none;\n",
              "      fill: #1967D2;\n",
              "      height: 32px;\n",
              "      padding: 0 0 0 0;\n",
              "      width: 32px;\n",
              "    }\n",
              "\n",
              "    .colab-df-convert:hover {\n",
              "      background-color: #E2EBFA;\n",
              "      box-shadow: 0px 1px 2px rgba(60, 64, 67, 0.3), 0px 1px 3px 1px rgba(60, 64, 67, 0.15);\n",
              "      fill: #174EA6;\n",
              "    }\n",
              "\n",
              "    .colab-df-buttons div {\n",
              "      margin-bottom: 4px;\n",
              "    }\n",
              "\n",
              "    [theme=dark] .colab-df-convert {\n",
              "      background-color: #3B4455;\n",
              "      fill: #D2E3FC;\n",
              "    }\n",
              "\n",
              "    [theme=dark] .colab-df-convert:hover {\n",
              "      background-color: #434B5C;\n",
              "      box-shadow: 0px 1px 3px 1px rgba(0, 0, 0, 0.15);\n",
              "      filter: drop-shadow(0px 1px 2px rgba(0, 0, 0, 0.3));\n",
              "      fill: #FFFFFF;\n",
              "    }\n",
              "  </style>\n",
              "\n",
              "    <script>\n",
              "      const buttonEl =\n",
              "        document.querySelector('#df-c0e57c47-14a7-4a3a-a5d4-335774ebfb45 button.colab-df-convert');\n",
              "      buttonEl.style.display =\n",
              "        google.colab.kernel.accessAllowed ? 'block' : 'none';\n",
              "\n",
              "      async function convertToInteractive(key) {\n",
              "        const element = document.querySelector('#df-c0e57c47-14a7-4a3a-a5d4-335774ebfb45');\n",
              "        const dataTable =\n",
              "          await google.colab.kernel.invokeFunction('convertToInteractive',\n",
              "                                                    [key], {});\n",
              "        if (!dataTable) return;\n",
              "\n",
              "        const docLinkHtml = 'Like what you see? Visit the ' +\n",
              "          '<a target=\"_blank\" href=https://colab.research.google.com/notebooks/data_table.ipynb>data table notebook</a>'\n",
              "          + ' to learn more about interactive tables.';\n",
              "        element.innerHTML = '';\n",
              "        dataTable['output_type'] = 'display_data';\n",
              "        await google.colab.output.renderOutput(dataTable, element);\n",
              "        const docLink = document.createElement('div');\n",
              "        docLink.innerHTML = docLinkHtml;\n",
              "        element.appendChild(docLink);\n",
              "      }\n",
              "    </script>\n",
              "  </div>\n",
              "\n",
              "\n",
              "<div id=\"df-d06a302c-28fd-48d9-85b6-e3a022052320\">\n",
              "  <button class=\"colab-df-quickchart\" onclick=\"quickchart('df-d06a302c-28fd-48d9-85b6-e3a022052320')\"\n",
              "            title=\"Suggest charts\"\n",
              "            style=\"display:none;\">\n",
              "\n",
              "<svg xmlns=\"http://www.w3.org/2000/svg\" height=\"24px\"viewBox=\"0 0 24 24\"\n",
              "     width=\"24px\">\n",
              "    <g>\n",
              "        <path d=\"M19 3H5c-1.1 0-2 .9-2 2v14c0 1.1.9 2 2 2h14c1.1 0 2-.9 2-2V5c0-1.1-.9-2-2-2zM9 17H7v-7h2v7zm4 0h-2V7h2v10zm4 0h-2v-4h2v4z\"/>\n",
              "    </g>\n",
              "</svg>\n",
              "  </button>\n",
              "\n",
              "<style>\n",
              "  .colab-df-quickchart {\n",
              "      --bg-color: #E8F0FE;\n",
              "      --fill-color: #1967D2;\n",
              "      --hover-bg-color: #E2EBFA;\n",
              "      --hover-fill-color: #174EA6;\n",
              "      --disabled-fill-color: #AAA;\n",
              "      --disabled-bg-color: #DDD;\n",
              "  }\n",
              "\n",
              "  [theme=dark] .colab-df-quickchart {\n",
              "      --bg-color: #3B4455;\n",
              "      --fill-color: #D2E3FC;\n",
              "      --hover-bg-color: #434B5C;\n",
              "      --hover-fill-color: #FFFFFF;\n",
              "      --disabled-bg-color: #3B4455;\n",
              "      --disabled-fill-color: #666;\n",
              "  }\n",
              "\n",
              "  .colab-df-quickchart {\n",
              "    background-color: var(--bg-color);\n",
              "    border: none;\n",
              "    border-radius: 50%;\n",
              "    cursor: pointer;\n",
              "    display: none;\n",
              "    fill: var(--fill-color);\n",
              "    height: 32px;\n",
              "    padding: 0;\n",
              "    width: 32px;\n",
              "  }\n",
              "\n",
              "  .colab-df-quickchart:hover {\n",
              "    background-color: var(--hover-bg-color);\n",
              "    box-shadow: 0 1px 2px rgba(60, 64, 67, 0.3), 0 1px 3px 1px rgba(60, 64, 67, 0.15);\n",
              "    fill: var(--button-hover-fill-color);\n",
              "  }\n",
              "\n",
              "  .colab-df-quickchart-complete:disabled,\n",
              "  .colab-df-quickchart-complete:disabled:hover {\n",
              "    background-color: var(--disabled-bg-color);\n",
              "    fill: var(--disabled-fill-color);\n",
              "    box-shadow: none;\n",
              "  }\n",
              "\n",
              "  .colab-df-spinner {\n",
              "    border: 2px solid var(--fill-color);\n",
              "    border-color: transparent;\n",
              "    border-bottom-color: var(--fill-color);\n",
              "    animation:\n",
              "      spin 1s steps(1) infinite;\n",
              "  }\n",
              "\n",
              "  @keyframes spin {\n",
              "    0% {\n",
              "      border-color: transparent;\n",
              "      border-bottom-color: var(--fill-color);\n",
              "      border-left-color: var(--fill-color);\n",
              "    }\n",
              "    20% {\n",
              "      border-color: transparent;\n",
              "      border-left-color: var(--fill-color);\n",
              "      border-top-color: var(--fill-color);\n",
              "    }\n",
              "    30% {\n",
              "      border-color: transparent;\n",
              "      border-left-color: var(--fill-color);\n",
              "      border-top-color: var(--fill-color);\n",
              "      border-right-color: var(--fill-color);\n",
              "    }\n",
              "    40% {\n",
              "      border-color: transparent;\n",
              "      border-right-color: var(--fill-color);\n",
              "      border-top-color: var(--fill-color);\n",
              "    }\n",
              "    60% {\n",
              "      border-color: transparent;\n",
              "      border-right-color: var(--fill-color);\n",
              "    }\n",
              "    80% {\n",
              "      border-color: transparent;\n",
              "      border-right-color: var(--fill-color);\n",
              "      border-bottom-color: var(--fill-color);\n",
              "    }\n",
              "    90% {\n",
              "      border-color: transparent;\n",
              "      border-bottom-color: var(--fill-color);\n",
              "    }\n",
              "  }\n",
              "</style>\n",
              "\n",
              "  <script>\n",
              "    async function quickchart(key) {\n",
              "      const quickchartButtonEl =\n",
              "        document.querySelector('#' + key + ' button');\n",
              "      quickchartButtonEl.disabled = true;  // To prevent multiple clicks.\n",
              "      quickchartButtonEl.classList.add('colab-df-spinner');\n",
              "      try {\n",
              "        const charts = await google.colab.kernel.invokeFunction(\n",
              "            'suggestCharts', [key], {});\n",
              "      } catch (error) {\n",
              "        console.error('Error during call to suggestCharts:', error);\n",
              "      }\n",
              "      quickchartButtonEl.classList.remove('colab-df-spinner');\n",
              "      quickchartButtonEl.classList.add('colab-df-quickchart-complete');\n",
              "    }\n",
              "    (() => {\n",
              "      let quickchartButtonEl =\n",
              "        document.querySelector('#df-d06a302c-28fd-48d9-85b6-e3a022052320 button');\n",
              "      quickchartButtonEl.style.display =\n",
              "        google.colab.kernel.accessAllowed ? 'block' : 'none';\n",
              "    })();\n",
              "  </script>\n",
              "</div>\n",
              "\n",
              "  <div id=\"id_a66f7663-d39a-4272-a339-fbb589395716\">\n",
              "    <style>\n",
              "      .colab-df-generate {\n",
              "        background-color: #E8F0FE;\n",
              "        border: none;\n",
              "        border-radius: 50%;\n",
              "        cursor: pointer;\n",
              "        display: none;\n",
              "        fill: #1967D2;\n",
              "        height: 32px;\n",
              "        padding: 0 0 0 0;\n",
              "        width: 32px;\n",
              "      }\n",
              "\n",
              "      .colab-df-generate:hover {\n",
              "        background-color: #E2EBFA;\n",
              "        box-shadow: 0px 1px 2px rgba(60, 64, 67, 0.3), 0px 1px 3px 1px rgba(60, 64, 67, 0.15);\n",
              "        fill: #174EA6;\n",
              "      }\n",
              "\n",
              "      [theme=dark] .colab-df-generate {\n",
              "        background-color: #3B4455;\n",
              "        fill: #D2E3FC;\n",
              "      }\n",
              "\n",
              "      [theme=dark] .colab-df-generate:hover {\n",
              "        background-color: #434B5C;\n",
              "        box-shadow: 0px 1px 3px 1px rgba(0, 0, 0, 0.15);\n",
              "        filter: drop-shadow(0px 1px 2px rgba(0, 0, 0, 0.3));\n",
              "        fill: #FFFFFF;\n",
              "      }\n",
              "    </style>\n",
              "    <button class=\"colab-df-generate\" onclick=\"generateWithVariable('info_df')\"\n",
              "            title=\"Generate code using this dataframe.\"\n",
              "            style=\"display:none;\">\n",
              "\n",
              "  <svg xmlns=\"http://www.w3.org/2000/svg\" height=\"24px\"viewBox=\"0 0 24 24\"\n",
              "       width=\"24px\">\n",
              "    <path d=\"M7,19H8.4L18.45,9,17,7.55,7,17.6ZM5,21V16.75L18.45,3.32a2,2,0,0,1,2.83,0l1.4,1.43a1.91,1.91,0,0,1,.58,1.4,1.91,1.91,0,0,1-.58,1.4L9.25,21ZM18.45,9,17,7.55Zm-12,3A5.31,5.31,0,0,0,4.9,8.1,5.31,5.31,0,0,0,1,6.5,5.31,5.31,0,0,0,4.9,4.9,5.31,5.31,0,0,0,6.5,1,5.31,5.31,0,0,0,8.1,4.9,5.31,5.31,0,0,0,12,6.5,5.46,5.46,0,0,0,6.5,12Z\"/>\n",
              "  </svg>\n",
              "    </button>\n",
              "    <script>\n",
              "      (() => {\n",
              "      const buttonEl =\n",
              "        document.querySelector('#id_a66f7663-d39a-4272-a339-fbb589395716 button.colab-df-generate');\n",
              "      buttonEl.style.display =\n",
              "        google.colab.kernel.accessAllowed ? 'block' : 'none';\n",
              "\n",
              "      buttonEl.onclick = () => {\n",
              "        google.colab.notebook.generateWithVariable('info_df');\n",
              "      }\n",
              "      })();\n",
              "    </script>\n",
              "  </div>\n",
              "\n",
              "    </div>\n",
              "  </div>\n"
            ],
            "application/vnd.google.colaboratory.intrinsic+json": {
              "type": "dataframe",
              "variable_name": "info_df",
              "summary": "{\n  \"name\": \"info_df\",\n  \"rows\": 25,\n  \"fields\": [\n    {\n      \"column\": \"missing_count\",\n      \"properties\": {\n        \"dtype\": \"number\",\n        \"std\": 4654,\n        \"min\": 0,\n        \"max\": 21950,\n        \"num_unique_values\": 7,\n        \"samples\": [\n          0,\n          7211,\n          5\n        ],\n        \"semantic_type\": \"\",\n        \"description\": \"\"\n      }\n    },\n    {\n      \"column\": \"total\",\n      \"properties\": {\n        \"dtype\": \"number\",\n        \"std\": 0,\n        \"min\": 46189,\n        \"max\": 46189,\n        \"num_unique_values\": 1,\n        \"samples\": [\n          46189\n        ],\n        \"semantic_type\": \"\",\n        \"description\": \"\"\n      }\n    },\n    {\n      \"column\": \"missing%\",\n      \"properties\": {\n        \"dtype\": \"number\",\n        \"std\": 10.076058971515666,\n        \"min\": 0.0,\n        \"max\": 47.52213730541904,\n        \"num_unique_values\": 7,\n        \"samples\": [\n          0.0\n        ],\n        \"semantic_type\": \"\",\n        \"description\": \"\"\n      }\n    },\n    {\n      \"column\": \"n_unique\",\n      \"properties\": {\n        \"dtype\": \"number\",\n        \"std\": 13000,\n        \"min\": 2,\n        \"max\": 40170,\n        \"num_unique_values\": 15,\n        \"samples\": [\n          68\n        ],\n        \"semantic_type\": \"\",\n        \"description\": \"\"\n      }\n    },\n    {\n      \"column\": \"type\",\n      \"properties\": {\n        \"dtype\": \"category\",\n        \"num_unique_values\": 3,\n        \"samples\": [\n          \"object\"\n        ],\n        \"semantic_type\": \"\",\n        \"description\": \"\"\n      }\n    }\n  ]\n}"
            }
          },
          "metadata": {},
          "execution_count": 46
        }
      ],
      "execution_count": 46
    },
    {
      "metadata": {
        "ExecuteTime": {
          "end_time": "2024-09-24T16:34:43.897320Z",
          "start_time": "2024-09-24T16:34:43.862848Z"
        },
        "id": "5f82d6fc1dd77c58"
      },
      "cell_type": "code",
      "source": [
        "# rta_dataset"
      ],
      "id": "5f82d6fc1dd77c58",
      "outputs": [],
      "execution_count": 47
    },
    {
      "metadata": {
        "id": "b40ca6196226a61a"
      },
      "cell_type": "markdown",
      "source": [
        "#### Checking the unique values"
      ],
      "id": "b40ca6196226a61a"
    },
    {
      "metadata": {
        "id": "967e321e1193c57b",
        "ExecuteTime": {
          "end_time": "2024-09-24T16:34:43.969400Z",
          "start_time": "2024-09-24T16:34:43.956165Z"
        },
        "colab": {
          "base_uri": "https://localhost:8080/"
        },
        "outputId": "385a6799-25d8-4745-c8ae-8a2281f454a3"
      },
      "cell_type": "code",
      "source": [
        "target_column = 'PatientStatus'\n",
        "\n",
        "filtered_cols = rta_dataset[info_df[info_df['n_unique'] < 15].index]\n",
        "unique_values = [{f'{col}: {rta_dataset[col].unique()}'} for col in filtered_cols.columns]\n",
        "unique_values"
      ],
      "id": "967e321e1193c57b",
      "outputs": [
        {
          "output_type": "execute_result",
          "data": {
            "text/plain": [
              "[{\"EcYear: [2020 2021 2022 'Hospital' 2023]\"},\n",
              " {\"TotalPatientsInEmergency: [1 2 3 4 8 6 5 10 7 11 9 'Alive & unstable' 15]\"},\n",
              " {\"Gender: ['Male' 'Female' 'Other' nan 0]\"},\n",
              " {\"EducationTitle: ['Intermediate' 'Illetrate' 'Matric' 'Primary' 'Graduation' 'Masters'\\n 'Middle' 'PHD' nan 0]\"},\n",
              " {\"InjuryType: ['Minor' 'Single Fracture' 'Head Injury' 'Multiple Fractures'\\n 'Spinal Injury' nan]\"},\n",
              " {\"Cause: ['Over Speed' 'Carelessness' 'Tyre Burst' 'U Turn' 'Others' 'Wrong Turn'\\n 'One Wheeling' nan]\"},\n",
              " {\"PatientStatus: ['Alive & unstable' 'Alive & stable' 'Dead' nan]\"},\n",
              " {'BicycleInvovled: [ 0.  1.  2. nan]'},\n",
              " {'BikesInvolved: [ 1.  0.  2.  3. 10. nan]'},\n",
              " {'BusesInvolved: [ 0.  1.  2. nan]'},\n",
              " {'CarsInvolved: [ 0.  1.  2.  3.  4. nan  5.]'},\n",
              " {'CartInvovled: [ 0.  1. nan]'},\n",
              " {'RickshawsInvolved: [ 0.  1.  2. nan]'},\n",
              " {'TractorInvovled: [ 0.  1. nan]'},\n",
              " {'TrainsInvovled: [ 0.  1. nan]'},\n",
              " {'TrucksInvolved: [ 0.  1.  2.  3. nan]'},\n",
              " {'VansInvolved: [ 0.  1.  2.  4.  3. nan]'},\n",
              " {'OthersInvolved: [ 0.  1.  2. nan]'}]"
            ]
          },
          "metadata": {},
          "execution_count": 48
        }
      ],
      "execution_count": 48
    },
    {
      "metadata": {
        "id": "5224a432db74759a"
      },
      "cell_type": "markdown",
      "source": [
        "### Missing value processing\n",
        "- We will drop the columns with the most missing values\n",
        "- drop the rows having problematic values (EcYear with Hospital, 0 for Gender)\n",
        "\n",
        "We have considered dropping rather than filling the values because there are enough samples available."
      ],
      "id": "5224a432db74759a"
    },
    {
      "metadata": {
        "ExecuteTime": {
          "end_time": "2024-09-24T16:34:44.168910Z",
          "start_time": "2024-09-24T16:34:44.124242Z"
        },
        "id": "c404b0d36727c69"
      },
      "cell_type": "code",
      "source": [
        "def drop_garbage_rows(df, col, to_drop):\n",
        "    df.drop(index=df[df[col] == to_drop].index, axis=0, inplace=True)\n",
        "\n",
        "drop_garbage_rows(rta_dataset, \"EcYear\", \"Hospital\")\n",
        "drop_garbage_rows(rta_dataset, \"Gender\", 0)\n",
        "drop_garbage_rows(rta_dataset, \"TotalPatientsInEmergency\", 'Alive & unstable')\n",
        "drop_garbage_rows(rta_dataset, \"EducationTitle\", 0)"
      ],
      "id": "c404b0d36727c69",
      "outputs": [],
      "execution_count": 90
    },
    {
      "metadata": {
        "id": "d780ed3e59d7273d"
      },
      "cell_type": "code",
      "outputs": [],
      "execution_count": 91,
      "source": [
        "rta_dataset.drop(columns=['HospitalName', 'EcNumber'], inplace=True)"
      ],
      "id": "d780ed3e59d7273d"
    },
    {
      "metadata": {
        "id": "9d98ff6208c9c179"
      },
      "cell_type": "markdown",
      "source": [
        "There are 46k data on the dataset, but call time has around 6000 data missing, so if we drop the null values, <br> we would still have at least 40k samples to work with."
      ],
      "id": "9d98ff6208c9c179"
    },
    {
      "metadata": {
        "id": "bc0f8113be2757ad"
      },
      "cell_type": "code",
      "outputs": [],
      "execution_count": 92,
      "source": [
        "rta_dataset.drop(index=rta_dataset[rta_dataset['CallTime'].isnull()].index, inplace=True)"
      ],
      "id": "bc0f8113be2757ad"
    },
    {
      "cell_type": "markdown",
      "source": [
        "##### More problematic rows"
      ],
      "metadata": {
        "id": "97z0Iul_U7iH"
      },
      "id": "97z0Iul_U7iH"
    },
    {
      "metadata": {
        "ExecuteTime": {
          "end_time": "2024-09-24T16:34:44.305074Z",
          "start_time": "2024-09-24T16:34:44.292288Z"
        },
        "id": "6d2860d560d44014",
        "colab": {
          "base_uri": "https://localhost:8080/",
          "height": 165
        },
        "outputId": "cdc3b3c9-aed3-425f-997b-75c47ff6dc91"
      },
      "cell_type": "code",
      "source": [
        "# Another problematic row\n",
        "rta_dataset[rta_dataset[\"Gender\"].isnull()]"
      ],
      "id": "6d2860d560d44014",
      "outputs": [
        {
          "output_type": "execute_result",
          "data": {
            "text/plain": [
              "      EcYear            CallTime                           EmergencyArea  \\\n",
              "31355   2022 2022-06-18 13:23:00  Near 502 Park, Adyala Road Rawalpindi.   \n",
              "\n",
              "      TotalPatientsInEmergency Gender  Age Reason  responsetime  \\\n",
              "31355                        2    NaN  NaN    NaN           NaN   \n",
              "\n",
              "      EducationTitle InjuryType  ... BikesInvolved BusesInvolved  \\\n",
              "31355            NaN        NaN  ...           NaN           NaN   \n",
              "\n",
              "       CarsInvolved  CartInvovled  RickshawsInvolved  TractorInvovled  \\\n",
              "31355           NaN           NaN                NaN              NaN   \n",
              "\n",
              "       TrainsInvovled  TrucksInvolved  VansInvolved  OthersInvolved  \n",
              "31355             NaN             NaN           NaN             NaN  \n",
              "\n",
              "[1 rows x 23 columns]"
            ],
            "text/html": [
              "\n",
              "  <div id=\"df-ac250b88-0e31-4298-ba42-9c40d9d6e1fc\" class=\"colab-df-container\">\n",
              "    <div>\n",
              "<style scoped>\n",
              "    .dataframe tbody tr th:only-of-type {\n",
              "        vertical-align: middle;\n",
              "    }\n",
              "\n",
              "    .dataframe tbody tr th {\n",
              "        vertical-align: top;\n",
              "    }\n",
              "\n",
              "    .dataframe thead th {\n",
              "        text-align: right;\n",
              "    }\n",
              "</style>\n",
              "<table border=\"1\" class=\"dataframe\">\n",
              "  <thead>\n",
              "    <tr style=\"text-align: right;\">\n",
              "      <th></th>\n",
              "      <th>EcYear</th>\n",
              "      <th>CallTime</th>\n",
              "      <th>EmergencyArea</th>\n",
              "      <th>TotalPatientsInEmergency</th>\n",
              "      <th>Gender</th>\n",
              "      <th>Age</th>\n",
              "      <th>Reason</th>\n",
              "      <th>responsetime</th>\n",
              "      <th>EducationTitle</th>\n",
              "      <th>InjuryType</th>\n",
              "      <th>...</th>\n",
              "      <th>BikesInvolved</th>\n",
              "      <th>BusesInvolved</th>\n",
              "      <th>CarsInvolved</th>\n",
              "      <th>CartInvovled</th>\n",
              "      <th>RickshawsInvolved</th>\n",
              "      <th>TractorInvovled</th>\n",
              "      <th>TrainsInvovled</th>\n",
              "      <th>TrucksInvolved</th>\n",
              "      <th>VansInvolved</th>\n",
              "      <th>OthersInvolved</th>\n",
              "    </tr>\n",
              "  </thead>\n",
              "  <tbody>\n",
              "    <tr>\n",
              "      <th>31355</th>\n",
              "      <td>2022</td>\n",
              "      <td>2022-06-18 13:23:00</td>\n",
              "      <td>Near 502 Park, Adyala Road Rawalpindi.</td>\n",
              "      <td>2</td>\n",
              "      <td>NaN</td>\n",
              "      <td>NaN</td>\n",
              "      <td>NaN</td>\n",
              "      <td>NaN</td>\n",
              "      <td>NaN</td>\n",
              "      <td>NaN</td>\n",
              "      <td>...</td>\n",
              "      <td>NaN</td>\n",
              "      <td>NaN</td>\n",
              "      <td>NaN</td>\n",
              "      <td>NaN</td>\n",
              "      <td>NaN</td>\n",
              "      <td>NaN</td>\n",
              "      <td>NaN</td>\n",
              "      <td>NaN</td>\n",
              "      <td>NaN</td>\n",
              "      <td>NaN</td>\n",
              "    </tr>\n",
              "  </tbody>\n",
              "</table>\n",
              "<p>1 rows × 23 columns</p>\n",
              "</div>\n",
              "    <div class=\"colab-df-buttons\">\n",
              "\n",
              "  <div class=\"colab-df-container\">\n",
              "    <button class=\"colab-df-convert\" onclick=\"convertToInteractive('df-ac250b88-0e31-4298-ba42-9c40d9d6e1fc')\"\n",
              "            title=\"Convert this dataframe to an interactive table.\"\n",
              "            style=\"display:none;\">\n",
              "\n",
              "  <svg xmlns=\"http://www.w3.org/2000/svg\" height=\"24px\" viewBox=\"0 -960 960 960\">\n",
              "    <path d=\"M120-120v-720h720v720H120Zm60-500h600v-160H180v160Zm220 220h160v-160H400v160Zm0 220h160v-160H400v160ZM180-400h160v-160H180v160Zm440 0h160v-160H620v160ZM180-180h160v-160H180v160Zm440 0h160v-160H620v160Z\"/>\n",
              "  </svg>\n",
              "    </button>\n",
              "\n",
              "  <style>\n",
              "    .colab-df-container {\n",
              "      display:flex;\n",
              "      gap: 12px;\n",
              "    }\n",
              "\n",
              "    .colab-df-convert {\n",
              "      background-color: #E8F0FE;\n",
              "      border: none;\n",
              "      border-radius: 50%;\n",
              "      cursor: pointer;\n",
              "      display: none;\n",
              "      fill: #1967D2;\n",
              "      height: 32px;\n",
              "      padding: 0 0 0 0;\n",
              "      width: 32px;\n",
              "    }\n",
              "\n",
              "    .colab-df-convert:hover {\n",
              "      background-color: #E2EBFA;\n",
              "      box-shadow: 0px 1px 2px rgba(60, 64, 67, 0.3), 0px 1px 3px 1px rgba(60, 64, 67, 0.15);\n",
              "      fill: #174EA6;\n",
              "    }\n",
              "\n",
              "    .colab-df-buttons div {\n",
              "      margin-bottom: 4px;\n",
              "    }\n",
              "\n",
              "    [theme=dark] .colab-df-convert {\n",
              "      background-color: #3B4455;\n",
              "      fill: #D2E3FC;\n",
              "    }\n",
              "\n",
              "    [theme=dark] .colab-df-convert:hover {\n",
              "      background-color: #434B5C;\n",
              "      box-shadow: 0px 1px 3px 1px rgba(0, 0, 0, 0.15);\n",
              "      filter: drop-shadow(0px 1px 2px rgba(0, 0, 0, 0.3));\n",
              "      fill: #FFFFFF;\n",
              "    }\n",
              "  </style>\n",
              "\n",
              "    <script>\n",
              "      const buttonEl =\n",
              "        document.querySelector('#df-ac250b88-0e31-4298-ba42-9c40d9d6e1fc button.colab-df-convert');\n",
              "      buttonEl.style.display =\n",
              "        google.colab.kernel.accessAllowed ? 'block' : 'none';\n",
              "\n",
              "      async function convertToInteractive(key) {\n",
              "        const element = document.querySelector('#df-ac250b88-0e31-4298-ba42-9c40d9d6e1fc');\n",
              "        const dataTable =\n",
              "          await google.colab.kernel.invokeFunction('convertToInteractive',\n",
              "                                                    [key], {});\n",
              "        if (!dataTable) return;\n",
              "\n",
              "        const docLinkHtml = 'Like what you see? Visit the ' +\n",
              "          '<a target=\"_blank\" href=https://colab.research.google.com/notebooks/data_table.ipynb>data table notebook</a>'\n",
              "          + ' to learn more about interactive tables.';\n",
              "        element.innerHTML = '';\n",
              "        dataTable['output_type'] = 'display_data';\n",
              "        await google.colab.output.renderOutput(dataTable, element);\n",
              "        const docLink = document.createElement('div');\n",
              "        docLink.innerHTML = docLinkHtml;\n",
              "        element.appendChild(docLink);\n",
              "      }\n",
              "    </script>\n",
              "  </div>\n",
              "\n",
              "\n",
              "    </div>\n",
              "  </div>\n"
            ],
            "application/vnd.google.colaboratory.intrinsic+json": {
              "type": "dataframe"
            }
          },
          "metadata": {},
          "execution_count": 93
        }
      ],
      "execution_count": 93
    },
    {
      "metadata": {
        "ExecuteTime": {
          "end_time": "2024-09-24T16:34:44.379289Z",
          "start_time": "2024-09-24T16:34:44.353900Z"
        },
        "id": "2cc14c295ddd76fb"
      },
      "cell_type": "code",
      "source": [
        "rta_dataset.drop(index=rta_dataset[rta_dataset[\"Gender\"].isnull()].index, inplace=True)\n",
        "rta_dataset.drop(index=rta_dataset[rta_dataset[\"EmergencyArea\"].isnull()].index, inplace=True)\n",
        "rta_dataset.drop(index=rta_dataset[rta_dataset[\"responsetime\"].isnull()].index, inplace=True)"
      ],
      "id": "2cc14c295ddd76fb",
      "outputs": [],
      "execution_count": 94
    },
    {
      "metadata": {
        "id": "93d01dc6dbcffc60"
      },
      "cell_type": "markdown",
      "source": [
        "### No missing values after processing\n",
        "\n",
        "and we even have enough samples to train the model."
      ],
      "id": "93d01dc6dbcffc60"
    },
    {
      "metadata": {
        "ExecuteTime": {
          "end_time": "2024-09-24T16:34:44.575093Z",
          "start_time": "2024-09-24T16:34:44.508056Z"
        },
        "id": "426ef16490c9ff4e",
        "colab": {
          "base_uri": "https://localhost:8080/",
          "height": 789
        },
        "outputId": "b8002dda-4448-48cf-cb5c-641ddb713964"
      },
      "cell_type": "code",
      "source": [
        "get_info(rta_dataset)"
      ],
      "id": "426ef16490c9ff4e",
      "outputs": [
        {
          "output_type": "stream",
          "name": "stdout",
          "text": [
            "Size: (40227, 23)\n"
          ]
        },
        {
          "output_type": "execute_result",
          "data": {
            "text/plain": [
              "                          missing_count  total  missing%  n_unique  \\\n",
              "EcYear                                0  40227       0.0         4   \n",
              "CallTime                              0  40227       0.0     40164   \n",
              "EmergencyArea                         0  40227       0.0     37237   \n",
              "TotalPatientsInEmergency              0  40227       0.0        12   \n",
              "Gender                                0  40227       0.0         3   \n",
              "Age                                   0  40227       0.0        98   \n",
              "Reason                                0  40227       0.0     22010   \n",
              "responsetime                          0  40227       0.0        68   \n",
              "EducationTitle                        0  40227       0.0         8   \n",
              "InjuryType                            0  40227       0.0         5   \n",
              "Cause                                 0  40227       0.0         7   \n",
              "PatientStatus                         0  40227       0.0         3   \n",
              "BicycleInvovled                       0  40227       0.0         3   \n",
              "BikesInvolved                         0  40227       0.0         5   \n",
              "BusesInvolved                         0  40227       0.0         3   \n",
              "CarsInvolved                          0  40227       0.0         6   \n",
              "CartInvovled                          0  40227       0.0         2   \n",
              "RickshawsInvolved                     0  40227       0.0         3   \n",
              "TractorInvovled                       0  40227       0.0         2   \n",
              "TrainsInvovled                        0  40227       0.0         2   \n",
              "TrucksInvolved                        0  40227       0.0         4   \n",
              "VansInvolved                          0  40227       0.0         5   \n",
              "OthersInvolved                        0  40227       0.0         3   \n",
              "\n",
              "                                    type  \n",
              "EcYear                            object  \n",
              "CallTime                  datetime64[ns]  \n",
              "EmergencyArea                     object  \n",
              "TotalPatientsInEmergency          object  \n",
              "Gender                            object  \n",
              "Age                              float64  \n",
              "Reason                            object  \n",
              "responsetime                     float64  \n",
              "EducationTitle                    object  \n",
              "InjuryType                        object  \n",
              "Cause                             object  \n",
              "PatientStatus                     object  \n",
              "BicycleInvovled                  float64  \n",
              "BikesInvolved                    float64  \n",
              "BusesInvolved                    float64  \n",
              "CarsInvolved                     float64  \n",
              "CartInvovled                     float64  \n",
              "RickshawsInvolved                float64  \n",
              "TractorInvovled                  float64  \n",
              "TrainsInvovled                   float64  \n",
              "TrucksInvolved                   float64  \n",
              "VansInvolved                     float64  \n",
              "OthersInvolved                   float64  "
            ],
            "text/html": [
              "\n",
              "  <div id=\"df-ff184e8e-ba34-4c47-ac04-5637aad64105\" class=\"colab-df-container\">\n",
              "    <div>\n",
              "<style scoped>\n",
              "    .dataframe tbody tr th:only-of-type {\n",
              "        vertical-align: middle;\n",
              "    }\n",
              "\n",
              "    .dataframe tbody tr th {\n",
              "        vertical-align: top;\n",
              "    }\n",
              "\n",
              "    .dataframe thead th {\n",
              "        text-align: right;\n",
              "    }\n",
              "</style>\n",
              "<table border=\"1\" class=\"dataframe\">\n",
              "  <thead>\n",
              "    <tr style=\"text-align: right;\">\n",
              "      <th></th>\n",
              "      <th>missing_count</th>\n",
              "      <th>total</th>\n",
              "      <th>missing%</th>\n",
              "      <th>n_unique</th>\n",
              "      <th>type</th>\n",
              "    </tr>\n",
              "  </thead>\n",
              "  <tbody>\n",
              "    <tr>\n",
              "      <th>EcYear</th>\n",
              "      <td>0</td>\n",
              "      <td>40227</td>\n",
              "      <td>0.0</td>\n",
              "      <td>4</td>\n",
              "      <td>object</td>\n",
              "    </tr>\n",
              "    <tr>\n",
              "      <th>CallTime</th>\n",
              "      <td>0</td>\n",
              "      <td>40227</td>\n",
              "      <td>0.0</td>\n",
              "      <td>40164</td>\n",
              "      <td>datetime64[ns]</td>\n",
              "    </tr>\n",
              "    <tr>\n",
              "      <th>EmergencyArea</th>\n",
              "      <td>0</td>\n",
              "      <td>40227</td>\n",
              "      <td>0.0</td>\n",
              "      <td>37237</td>\n",
              "      <td>object</td>\n",
              "    </tr>\n",
              "    <tr>\n",
              "      <th>TotalPatientsInEmergency</th>\n",
              "      <td>0</td>\n",
              "      <td>40227</td>\n",
              "      <td>0.0</td>\n",
              "      <td>12</td>\n",
              "      <td>object</td>\n",
              "    </tr>\n",
              "    <tr>\n",
              "      <th>Gender</th>\n",
              "      <td>0</td>\n",
              "      <td>40227</td>\n",
              "      <td>0.0</td>\n",
              "      <td>3</td>\n",
              "      <td>object</td>\n",
              "    </tr>\n",
              "    <tr>\n",
              "      <th>Age</th>\n",
              "      <td>0</td>\n",
              "      <td>40227</td>\n",
              "      <td>0.0</td>\n",
              "      <td>98</td>\n",
              "      <td>float64</td>\n",
              "    </tr>\n",
              "    <tr>\n",
              "      <th>Reason</th>\n",
              "      <td>0</td>\n",
              "      <td>40227</td>\n",
              "      <td>0.0</td>\n",
              "      <td>22010</td>\n",
              "      <td>object</td>\n",
              "    </tr>\n",
              "    <tr>\n",
              "      <th>responsetime</th>\n",
              "      <td>0</td>\n",
              "      <td>40227</td>\n",
              "      <td>0.0</td>\n",
              "      <td>68</td>\n",
              "      <td>float64</td>\n",
              "    </tr>\n",
              "    <tr>\n",
              "      <th>EducationTitle</th>\n",
              "      <td>0</td>\n",
              "      <td>40227</td>\n",
              "      <td>0.0</td>\n",
              "      <td>8</td>\n",
              "      <td>object</td>\n",
              "    </tr>\n",
              "    <tr>\n",
              "      <th>InjuryType</th>\n",
              "      <td>0</td>\n",
              "      <td>40227</td>\n",
              "      <td>0.0</td>\n",
              "      <td>5</td>\n",
              "      <td>object</td>\n",
              "    </tr>\n",
              "    <tr>\n",
              "      <th>Cause</th>\n",
              "      <td>0</td>\n",
              "      <td>40227</td>\n",
              "      <td>0.0</td>\n",
              "      <td>7</td>\n",
              "      <td>object</td>\n",
              "    </tr>\n",
              "    <tr>\n",
              "      <th>PatientStatus</th>\n",
              "      <td>0</td>\n",
              "      <td>40227</td>\n",
              "      <td>0.0</td>\n",
              "      <td>3</td>\n",
              "      <td>object</td>\n",
              "    </tr>\n",
              "    <tr>\n",
              "      <th>BicycleInvovled</th>\n",
              "      <td>0</td>\n",
              "      <td>40227</td>\n",
              "      <td>0.0</td>\n",
              "      <td>3</td>\n",
              "      <td>float64</td>\n",
              "    </tr>\n",
              "    <tr>\n",
              "      <th>BikesInvolved</th>\n",
              "      <td>0</td>\n",
              "      <td>40227</td>\n",
              "      <td>0.0</td>\n",
              "      <td>5</td>\n",
              "      <td>float64</td>\n",
              "    </tr>\n",
              "    <tr>\n",
              "      <th>BusesInvolved</th>\n",
              "      <td>0</td>\n",
              "      <td>40227</td>\n",
              "      <td>0.0</td>\n",
              "      <td>3</td>\n",
              "      <td>float64</td>\n",
              "    </tr>\n",
              "    <tr>\n",
              "      <th>CarsInvolved</th>\n",
              "      <td>0</td>\n",
              "      <td>40227</td>\n",
              "      <td>0.0</td>\n",
              "      <td>6</td>\n",
              "      <td>float64</td>\n",
              "    </tr>\n",
              "    <tr>\n",
              "      <th>CartInvovled</th>\n",
              "      <td>0</td>\n",
              "      <td>40227</td>\n",
              "      <td>0.0</td>\n",
              "      <td>2</td>\n",
              "      <td>float64</td>\n",
              "    </tr>\n",
              "    <tr>\n",
              "      <th>RickshawsInvolved</th>\n",
              "      <td>0</td>\n",
              "      <td>40227</td>\n",
              "      <td>0.0</td>\n",
              "      <td>3</td>\n",
              "      <td>float64</td>\n",
              "    </tr>\n",
              "    <tr>\n",
              "      <th>TractorInvovled</th>\n",
              "      <td>0</td>\n",
              "      <td>40227</td>\n",
              "      <td>0.0</td>\n",
              "      <td>2</td>\n",
              "      <td>float64</td>\n",
              "    </tr>\n",
              "    <tr>\n",
              "      <th>TrainsInvovled</th>\n",
              "      <td>0</td>\n",
              "      <td>40227</td>\n",
              "      <td>0.0</td>\n",
              "      <td>2</td>\n",
              "      <td>float64</td>\n",
              "    </tr>\n",
              "    <tr>\n",
              "      <th>TrucksInvolved</th>\n",
              "      <td>0</td>\n",
              "      <td>40227</td>\n",
              "      <td>0.0</td>\n",
              "      <td>4</td>\n",
              "      <td>float64</td>\n",
              "    </tr>\n",
              "    <tr>\n",
              "      <th>VansInvolved</th>\n",
              "      <td>0</td>\n",
              "      <td>40227</td>\n",
              "      <td>0.0</td>\n",
              "      <td>5</td>\n",
              "      <td>float64</td>\n",
              "    </tr>\n",
              "    <tr>\n",
              "      <th>OthersInvolved</th>\n",
              "      <td>0</td>\n",
              "      <td>40227</td>\n",
              "      <td>0.0</td>\n",
              "      <td>3</td>\n",
              "      <td>float64</td>\n",
              "    </tr>\n",
              "  </tbody>\n",
              "</table>\n",
              "</div>\n",
              "    <div class=\"colab-df-buttons\">\n",
              "\n",
              "  <div class=\"colab-df-container\">\n",
              "    <button class=\"colab-df-convert\" onclick=\"convertToInteractive('df-ff184e8e-ba34-4c47-ac04-5637aad64105')\"\n",
              "            title=\"Convert this dataframe to an interactive table.\"\n",
              "            style=\"display:none;\">\n",
              "\n",
              "  <svg xmlns=\"http://www.w3.org/2000/svg\" height=\"24px\" viewBox=\"0 -960 960 960\">\n",
              "    <path d=\"M120-120v-720h720v720H120Zm60-500h600v-160H180v160Zm220 220h160v-160H400v160Zm0 220h160v-160H400v160ZM180-400h160v-160H180v160Zm440 0h160v-160H620v160ZM180-180h160v-160H180v160Zm440 0h160v-160H620v160Z\"/>\n",
              "  </svg>\n",
              "    </button>\n",
              "\n",
              "  <style>\n",
              "    .colab-df-container {\n",
              "      display:flex;\n",
              "      gap: 12px;\n",
              "    }\n",
              "\n",
              "    .colab-df-convert {\n",
              "      background-color: #E8F0FE;\n",
              "      border: none;\n",
              "      border-radius: 50%;\n",
              "      cursor: pointer;\n",
              "      display: none;\n",
              "      fill: #1967D2;\n",
              "      height: 32px;\n",
              "      padding: 0 0 0 0;\n",
              "      width: 32px;\n",
              "    }\n",
              "\n",
              "    .colab-df-convert:hover {\n",
              "      background-color: #E2EBFA;\n",
              "      box-shadow: 0px 1px 2px rgba(60, 64, 67, 0.3), 0px 1px 3px 1px rgba(60, 64, 67, 0.15);\n",
              "      fill: #174EA6;\n",
              "    }\n",
              "\n",
              "    .colab-df-buttons div {\n",
              "      margin-bottom: 4px;\n",
              "    }\n",
              "\n",
              "    [theme=dark] .colab-df-convert {\n",
              "      background-color: #3B4455;\n",
              "      fill: #D2E3FC;\n",
              "    }\n",
              "\n",
              "    [theme=dark] .colab-df-convert:hover {\n",
              "      background-color: #434B5C;\n",
              "      box-shadow: 0px 1px 3px 1px rgba(0, 0, 0, 0.15);\n",
              "      filter: drop-shadow(0px 1px 2px rgba(0, 0, 0, 0.3));\n",
              "      fill: #FFFFFF;\n",
              "    }\n",
              "  </style>\n",
              "\n",
              "    <script>\n",
              "      const buttonEl =\n",
              "        document.querySelector('#df-ff184e8e-ba34-4c47-ac04-5637aad64105 button.colab-df-convert');\n",
              "      buttonEl.style.display =\n",
              "        google.colab.kernel.accessAllowed ? 'block' : 'none';\n",
              "\n",
              "      async function convertToInteractive(key) {\n",
              "        const element = document.querySelector('#df-ff184e8e-ba34-4c47-ac04-5637aad64105');\n",
              "        const dataTable =\n",
              "          await google.colab.kernel.invokeFunction('convertToInteractive',\n",
              "                                                    [key], {});\n",
              "        if (!dataTable) return;\n",
              "\n",
              "        const docLinkHtml = 'Like what you see? Visit the ' +\n",
              "          '<a target=\"_blank\" href=https://colab.research.google.com/notebooks/data_table.ipynb>data table notebook</a>'\n",
              "          + ' to learn more about interactive tables.';\n",
              "        element.innerHTML = '';\n",
              "        dataTable['output_type'] = 'display_data';\n",
              "        await google.colab.output.renderOutput(dataTable, element);\n",
              "        const docLink = document.createElement('div');\n",
              "        docLink.innerHTML = docLinkHtml;\n",
              "        element.appendChild(docLink);\n",
              "      }\n",
              "    </script>\n",
              "  </div>\n",
              "\n",
              "\n",
              "<div id=\"df-6ac4c45c-a217-4c75-b3d7-4d42902d123d\">\n",
              "  <button class=\"colab-df-quickchart\" onclick=\"quickchart('df-6ac4c45c-a217-4c75-b3d7-4d42902d123d')\"\n",
              "            title=\"Suggest charts\"\n",
              "            style=\"display:none;\">\n",
              "\n",
              "<svg xmlns=\"http://www.w3.org/2000/svg\" height=\"24px\"viewBox=\"0 0 24 24\"\n",
              "     width=\"24px\">\n",
              "    <g>\n",
              "        <path d=\"M19 3H5c-1.1 0-2 .9-2 2v14c0 1.1.9 2 2 2h14c1.1 0 2-.9 2-2V5c0-1.1-.9-2-2-2zM9 17H7v-7h2v7zm4 0h-2V7h2v10zm4 0h-2v-4h2v4z\"/>\n",
              "    </g>\n",
              "</svg>\n",
              "  </button>\n",
              "\n",
              "<style>\n",
              "  .colab-df-quickchart {\n",
              "      --bg-color: #E8F0FE;\n",
              "      --fill-color: #1967D2;\n",
              "      --hover-bg-color: #E2EBFA;\n",
              "      --hover-fill-color: #174EA6;\n",
              "      --disabled-fill-color: #AAA;\n",
              "      --disabled-bg-color: #DDD;\n",
              "  }\n",
              "\n",
              "  [theme=dark] .colab-df-quickchart {\n",
              "      --bg-color: #3B4455;\n",
              "      --fill-color: #D2E3FC;\n",
              "      --hover-bg-color: #434B5C;\n",
              "      --hover-fill-color: #FFFFFF;\n",
              "      --disabled-bg-color: #3B4455;\n",
              "      --disabled-fill-color: #666;\n",
              "  }\n",
              "\n",
              "  .colab-df-quickchart {\n",
              "    background-color: var(--bg-color);\n",
              "    border: none;\n",
              "    border-radius: 50%;\n",
              "    cursor: pointer;\n",
              "    display: none;\n",
              "    fill: var(--fill-color);\n",
              "    height: 32px;\n",
              "    padding: 0;\n",
              "    width: 32px;\n",
              "  }\n",
              "\n",
              "  .colab-df-quickchart:hover {\n",
              "    background-color: var(--hover-bg-color);\n",
              "    box-shadow: 0 1px 2px rgba(60, 64, 67, 0.3), 0 1px 3px 1px rgba(60, 64, 67, 0.15);\n",
              "    fill: var(--button-hover-fill-color);\n",
              "  }\n",
              "\n",
              "  .colab-df-quickchart-complete:disabled,\n",
              "  .colab-df-quickchart-complete:disabled:hover {\n",
              "    background-color: var(--disabled-bg-color);\n",
              "    fill: var(--disabled-fill-color);\n",
              "    box-shadow: none;\n",
              "  }\n",
              "\n",
              "  .colab-df-spinner {\n",
              "    border: 2px solid var(--fill-color);\n",
              "    border-color: transparent;\n",
              "    border-bottom-color: var(--fill-color);\n",
              "    animation:\n",
              "      spin 1s steps(1) infinite;\n",
              "  }\n",
              "\n",
              "  @keyframes spin {\n",
              "    0% {\n",
              "      border-color: transparent;\n",
              "      border-bottom-color: var(--fill-color);\n",
              "      border-left-color: var(--fill-color);\n",
              "    }\n",
              "    20% {\n",
              "      border-color: transparent;\n",
              "      border-left-color: var(--fill-color);\n",
              "      border-top-color: var(--fill-color);\n",
              "    }\n",
              "    30% {\n",
              "      border-color: transparent;\n",
              "      border-left-color: var(--fill-color);\n",
              "      border-top-color: var(--fill-color);\n",
              "      border-right-color: var(--fill-color);\n",
              "    }\n",
              "    40% {\n",
              "      border-color: transparent;\n",
              "      border-right-color: var(--fill-color);\n",
              "      border-top-color: var(--fill-color);\n",
              "    }\n",
              "    60% {\n",
              "      border-color: transparent;\n",
              "      border-right-color: var(--fill-color);\n",
              "    }\n",
              "    80% {\n",
              "      border-color: transparent;\n",
              "      border-right-color: var(--fill-color);\n",
              "      border-bottom-color: var(--fill-color);\n",
              "    }\n",
              "    90% {\n",
              "      border-color: transparent;\n",
              "      border-bottom-color: var(--fill-color);\n",
              "    }\n",
              "  }\n",
              "</style>\n",
              "\n",
              "  <script>\n",
              "    async function quickchart(key) {\n",
              "      const quickchartButtonEl =\n",
              "        document.querySelector('#' + key + ' button');\n",
              "      quickchartButtonEl.disabled = true;  // To prevent multiple clicks.\n",
              "      quickchartButtonEl.classList.add('colab-df-spinner');\n",
              "      try {\n",
              "        const charts = await google.colab.kernel.invokeFunction(\n",
              "            'suggestCharts', [key], {});\n",
              "      } catch (error) {\n",
              "        console.error('Error during call to suggestCharts:', error);\n",
              "      }\n",
              "      quickchartButtonEl.classList.remove('colab-df-spinner');\n",
              "      quickchartButtonEl.classList.add('colab-df-quickchart-complete');\n",
              "    }\n",
              "    (() => {\n",
              "      let quickchartButtonEl =\n",
              "        document.querySelector('#df-6ac4c45c-a217-4c75-b3d7-4d42902d123d button');\n",
              "      quickchartButtonEl.style.display =\n",
              "        google.colab.kernel.accessAllowed ? 'block' : 'none';\n",
              "    })();\n",
              "  </script>\n",
              "</div>\n",
              "\n",
              "    </div>\n",
              "  </div>\n"
            ],
            "application/vnd.google.colaboratory.intrinsic+json": {
              "type": "dataframe",
              "summary": "{\n  \"name\": \"get_info(rta_dataset)\",\n  \"rows\": 23,\n  \"fields\": [\n    {\n      \"column\": \"missing_count\",\n      \"properties\": {\n        \"dtype\": \"number\",\n        \"std\": 0,\n        \"min\": 0,\n        \"max\": 0,\n        \"num_unique_values\": 1,\n        \"samples\": [\n          0\n        ],\n        \"semantic_type\": \"\",\n        \"description\": \"\"\n      }\n    },\n    {\n      \"column\": \"total\",\n      \"properties\": {\n        \"dtype\": \"number\",\n        \"std\": 0,\n        \"min\": 40227,\n        \"max\": 40227,\n        \"num_unique_values\": 1,\n        \"samples\": [\n          40227\n        ],\n        \"semantic_type\": \"\",\n        \"description\": \"\"\n      }\n    },\n    {\n      \"column\": \"missing%\",\n      \"properties\": {\n        \"dtype\": \"number\",\n        \"std\": 0.0,\n        \"min\": 0.0,\n        \"max\": 0.0,\n        \"num_unique_values\": 1,\n        \"samples\": [\n          0.0\n        ],\n        \"semantic_type\": \"\",\n        \"description\": \"\"\n      }\n    },\n    {\n      \"column\": \"n_unique\",\n      \"properties\": {\n        \"dtype\": \"number\",\n        \"std\": 11779,\n        \"min\": 2,\n        \"max\": 40164,\n        \"num_unique_values\": 13,\n        \"samples\": [\n          6\n        ],\n        \"semantic_type\": \"\",\n        \"description\": \"\"\n      }\n    },\n    {\n      \"column\": \"type\",\n      \"properties\": {\n        \"dtype\": \"category\",\n        \"num_unique_values\": 3,\n        \"samples\": [\n          \"object\"\n        ],\n        \"semantic_type\": \"\",\n        \"description\": \"\"\n      }\n    }\n  ]\n}"
            }
          },
          "metadata": {},
          "execution_count": 54
        }
      ],
      "execution_count": null
    },
    {
      "cell_type": "markdown",
      "source": [
        "### Working with the dates"
      ],
      "metadata": {
        "id": "kPRKo_VjpQFI"
      },
      "id": "kPRKo_VjpQFI"
    },
    {
      "cell_type": "code",
      "source": [
        "rta_dataset['CallTime'] = pd.DatetimeIndex(rta_dataset['CallTime'])\n",
        "rta_dataset['CallHour'] = rta_dataset['CallTime'].dt.hour\n",
        "rta_dataset['CallDayOfWeek'] = rta_dataset['CallTime'].dt.dayofweek\n",
        "rta_dataset['CallMonth'] = rta_dataset['CallTime'].dt.month\n",
        "rta_dataset['CallYear'] = rta_dataset['CallTime'].dt.year\n",
        "rta_dataset.drop(columns=['CallTime', 'CallYear', 'EcYear'], inplace=True)\n",
        "\n",
        "cat_cols = get_cat_cols(rta_dataset)\n",
        "num_cols = get_num_cols(rta_dataset)"
      ],
      "metadata": {
        "id": "UlU0UkG3ZdlP"
      },
      "id": "UlU0UkG3ZdlP",
      "execution_count": 95,
      "outputs": []
    },
    {
      "cell_type": "markdown",
      "source": [
        "### Plotting"
      ],
      "metadata": {
        "id": "884dOzEPVBfX"
      },
      "id": "884dOzEPVBfX"
    },
    {
      "metadata": {
        "id": "8d465e1c43f531",
        "ExecuteTime": {
          "end_time": "2024-09-24T16:34:46.255643Z",
          "start_time": "2024-09-24T16:34:44.755559Z"
        }
      },
      "cell_type": "code",
      "source": [
        "fig, axes = plt.subplots(nrows=2, ncols=4, figsize=(14, 13))\n",
        "plt.subplots_adjust(hspace=.5)\n",
        "\n",
        "r, c = 0, 0\n",
        "\n",
        "for col in filtered_cols:\n",
        "    if col in cat_cols:\n",
        "        plot = sns.countplot(data=rta_dataset, x=rta_dataset[col], hue='PatientStatus', ax=axes[r, c])\n",
        "        plot.set_xticklabels(plot.get_xticklabels(), rotation=25)\n",
        "\n",
        "    if c < 3:\n",
        "        c = c + 1\n",
        "    else:\n",
        "        c = 0\n",
        "        if r < 1:\n",
        "            r = r + 1\n",
        "\n",
        "plt.show()"
      ],
      "id": "8d465e1c43f531",
      "outputs": [],
      "execution_count": null
    },
    {
      "metadata": {
        "id": "896e0509ea94499e",
        "ExecuteTime": {
          "end_time": "2024-09-24T16:34:47.548697Z",
          "start_time": "2024-09-24T16:34:46.499743Z"
        }
      },
      "cell_type": "code",
      "source": [
        "fig, axes = plt.subplots(nrows=2, ncols=4, figsize=(14, 13))\n",
        "plt.subplots_adjust(hspace=.5)\n",
        "\n",
        "r, c = 0, 0\n",
        "\n",
        "for col in filtered_cols.columns:\n",
        "    if col in cat_cols:\n",
        "        plot = sns.countplot(data=rta_dataset, x=rta_dataset[col], ax=axes[r, c])\n",
        "        plot.set_xticklabels(plot.get_xticklabels(), rotation=25)\n",
        "    if c < 3:\n",
        "        c = c + 1\n",
        "    else:\n",
        "        c = 0\n",
        "        if r < 1:\n",
        "            r = r + 1\n",
        "\n",
        "plt.show()"
      ],
      "id": "896e0509ea94499e",
      "outputs": [],
      "execution_count": null
    },
    {
      "metadata": {
        "id": "c9f37d311746e6aa",
        "ExecuteTime": {
          "end_time": "2024-09-24T16:34:49.564877Z",
          "start_time": "2024-09-24T16:34:47.612791Z"
        }
      },
      "cell_type": "code",
      "source": [
        "fig, axes = plt.subplots(nrows=3, ncols=5, figsize=(14, 15))\n",
        "plt.subplots_adjust(hspace=.5)\n",
        "\n",
        "r, c = 0, 0\n",
        "\n",
        "for col in num_cols:\n",
        "    plot = sns.histplot(data=rta_dataset, x=col, ax=axes[r, c])\n",
        "    plot.set_xticklabels(plot.get_xticklabels(), rotation=25)\n",
        "    if c < 4:\n",
        "        c = c + 1\n",
        "    else:\n",
        "        c = 0\n",
        "        if r < 2:\n",
        "            r = r + 1\n"
      ],
      "id": "c9f37d311746e6aa",
      "outputs": [],
      "execution_count": null
    },
    {
      "metadata": {
        "id": "84b98479b065af39",
        "ExecuteTime": {
          "end_time": "2024-09-24T16:34:53.971084Z",
          "start_time": "2024-09-24T16:34:49.590906Z"
        }
      },
      "cell_type": "code",
      "source": [
        "fig, axes = plt.subplots(nrows=5, ncols=4, figsize=(14, 10))\n",
        "plt.subplots_adjust(hspace=.5)\n",
        "\n",
        "r, c = 0, 0\n",
        "\n",
        "for col in num_cols:\n",
        "    plot = sns.distplot(x=rta_dataset[col], ax=axes[r, c])\n",
        "    plot.set_xticklabels(plot.get_xticklabels(), rotation=25)\n",
        "    plot.set_title(col)\n",
        "    if c < 3:\n",
        "        c = c + 1\n",
        "    else:\n",
        "        c = 0\n",
        "        if r < 4:\n",
        "            r = r + 1\n"
      ],
      "id": "84b98479b065af39",
      "outputs": [],
      "execution_count": null
    },
    {
      "metadata": {
        "id": "dc979aa1e4070316",
        "ExecuteTime": {
          "end_time": "2024-09-24T16:34:54.586396Z",
          "start_time": "2024-09-24T16:34:53.996794Z"
        }
      },
      "cell_type": "code",
      "source": [
        "fig, axes = plt.subplots(nrows=2, ncols=2, figsize=(14, 10))\n",
        "plt.subplots_adjust(hspace=.5)\n",
        "\n",
        "sns.countplot(data=rta_dataset, x='PatientStatus', hue='Gender', ax=axes[0,0])\n",
        "\n",
        "sns.countplot(data=rta_dataset, x='PatientStatus', hue='InjuryType', ax=axes[0,1])\n",
        "\n",
        "# plot3 = sns.countplot(data=rta_dataset, x='CallTime', hue='PatientStatus', ax=axes[1,0])\n",
        "# plot3.set_xticklabels(plot3.get_xticklabels(), rotation=80)\n",
        "\n",
        "# sns.countplot(data=rta_dataset, x='PatientStatus', hue='Gender', ax=axes[1,1])"
      ],
      "id": "dc979aa1e4070316",
      "outputs": [],
      "execution_count": null
    },
    {
      "metadata": {
        "id": "d834aff8a06289f7",
        "ExecuteTime": {
          "end_time": "2024-09-24T16:34:54.874782Z",
          "start_time": "2024-09-24T16:34:54.612512Z"
        }
      },
      "cell_type": "code",
      "source": [
        "sns.heatmap(rta_dataset[num_cols].corr(), cmap='coolwarm')"
      ],
      "id": "d834aff8a06289f7",
      "outputs": [],
      "execution_count": null
    },
    {
      "cell_type": "code",
      "source": [],
      "metadata": {
        "id": "bAMdtE8gpTXd"
      },
      "id": "bAMdtE8gpTXd",
      "execution_count": null,
      "outputs": []
    },
    {
      "cell_type": "code",
      "source": [
        "# Create subplots\n",
        "fig, axes = plt.subplots(3, 1, figsize=(12, 18))\n",
        "\n",
        "# Plot calls by hour\n",
        "sns.histplot(rta_dataset['CallHour'], bins=24, kde=True, ax=axes[0])\n",
        "axes[0].set_title('Distribution of Calls by Hour')\n",
        "axes[0].set_xlabel('Hour of the Day')\n",
        "axes[0].set_ylabel('Frequency')\n",
        "axes[0].set_xticks(range(0, 24))\n",
        "\n",
        "# Plot calls by day of the week\n",
        "sns.countplot(x='CallDayOfWeek', data=rta_dataset, palette='viridis', ax=axes[1])\n",
        "axes[1].set_title('Number of Calls by Day of the Week')\n",
        "axes[1].set_xlabel('Day of the Week')\n",
        "axes[1].set_ylabel('Number of Calls')\n",
        "axes[1].set_xticks(ticks=range(7), labels=['Mon', 'Tue', 'Wed', 'Thu', 'Fri', 'Sat', 'Sun'])\n",
        "\n",
        "# Plot calls by month\n",
        "sns.countplot(x='CallMonth', data=rta_dataset, palette='viridis', ax=axes[2])\n",
        "axes[2].set_title('Number of Calls by Month')\n",
        "axes[2].set_xlabel('Month')\n",
        "axes[2].set_ylabel('Number of Calls')\n",
        "axes[2].set_xticks(ticks=range(1, 13), labels=['Jan', 'Feb', 'Mar', 'Apr', 'May', 'Jun', 'Jul', 'Aug', 'Sep', 'Oct', 'Nov', 'Dec'])\n",
        "\n",
        "# Adjust layout\n",
        "plt.tight_layout()\n",
        "plt.show()"
      ],
      "metadata": {
        "id": "23XB9v-JSMig"
      },
      "id": "23XB9v-JSMig",
      "execution_count": null,
      "outputs": []
    },
    {
      "cell_type": "code",
      "source": [
        "def convert_to_shift(x) -> str:\n",
        "  hour = x\n",
        "  if hour >= 1 and hour < 6:\n",
        "    return 'Mid Night'\n",
        "  elif hour >= 6 and hour < 12:\n",
        "    return 'Morning'\n",
        "  elif hour >= 12 and hour < 18:\n",
        "    return 'Noon'\n",
        "  elif hour >= 18 and hour < 21:\n",
        "    return 'Evening'\n",
        "  else:\n",
        "    return 'Night'\n",
        "\n",
        "def conver_to_season(x) -> str:\n",
        "  month = x\n",
        "  if month >= 3 and month < 6:\n",
        "    return 'Spring'\n",
        "  elif month >= 6 and month <= 9:\n",
        "    return 'Monsoon'\n",
        "  elif month >= 10 and month <= 11:\n",
        "    return 'Autumn'\n",
        "  else:\n",
        "    return 'Winter'\n",
        "\n",
        "rta_dataset['CallHour'] = rta_dataset['CallHour'].apply(convert_to_shift)\n",
        "rta_dataset['CallMonth'] = rta_dataset['CallMonth'].apply(conver_to_season)"
      ],
      "metadata": {
        "id": "DK9OJABsqPkw"
      },
      "id": "DK9OJABsqPkw",
      "execution_count": null,
      "outputs": []
    },
    {
      "metadata": {
        "id": "77631dba6fa11ef6"
      },
      "cell_type": "markdown",
      "source": [
        "### Process EmergencyArea"
      ],
      "id": "77631dba6fa11ef6"
    },
    {
      "cell_type": "code",
      "source": [
        "rta_dataset['EmergencyArea'] = rta_dataset['EmergencyArea'].apply(lambda x : x.lower())\n",
        "\n",
        "rta_dataset['EmergencyArea'] = rta_dataset['EmergencyArea'].replace(\n",
        "    to_replace=r\".*(rwp|rawalpindi).*\",\n",
        "    value=\"Rawalpindi\",\n",
        "    regex=True\n",
        ")\n",
        "\n",
        "rta_dataset['EmergencyArea'] = rta_dataset['EmergencyArea'].replace(\n",
        "    to_replace=\n",
        "    r\".*(gt road|g.t road|g t road).*\",\n",
        "    value=\"GT Road\",\n",
        "    regex=True\n",
        ")\n",
        "\n",
        "rta_dataset['EmergencyArea'] = rta_dataset['EmergencyArea'].replace(\n",
        "    to_replace=\n",
        "    r\".*(chowk).*\",\n",
        "    value=\"Chowk\",\n",
        "    regex=True\n",
        ")\n",
        "\n",
        "rta_dataset['EmergencyArea'] = rta_dataset['EmergencyArea'].replace(\n",
        "    to_replace=\n",
        "    r\".*(i\\.j\\.p).*\",\n",
        "    value=\"IJP Road\",\n",
        "    regex=True\n",
        ")\n",
        "\n",
        "rta_dataset['EmergencyArea'] = rta_dataset['EmergencyArea'].replace(\n",
        "    to_replace=\n",
        "    r\".*(mandra).*\",\n",
        "    value=\"Mandra\",\n",
        "    regex=True\n",
        ")\n",
        "\n",
        "rta_dataset['EmergencyArea'] = rta_dataset['EmergencyArea'].replace(\n",
        "    to_replace=r\".*(faizabad|faiza bad).*\",\n",
        "    value=\"Faizabad\",\n",
        "    regex=True\n",
        ")\n",
        "\n",
        "rta_dataset['EmergencyArea'] = rta_dataset['EmergencyArea'].replace(\n",
        "    to_replace=r\".*(isb).*\",\n",
        "    value=\"Isb\",\n",
        "    regex=True\n",
        ")\n",
        "\n",
        "rta_dataset['EmergencyArea'] = rta_dataset['EmergencyArea'].replace(\n",
        "    to_replace=r\".*(peshwar).*\",\n",
        "    value=\"Peshwar\",\n",
        "    regex=True\n",
        ")\n",
        "\n",
        "rta_dataset['EmergencyArea'] = rta_dataset['EmergencyArea'].replace(\n",
        "    to_replace=r\".*(sayidan|syedan).*\",\n",
        "    value=\"Sayidan\",\n",
        "    regex=True\n",
        ")"
      ],
      "metadata": {
        "id": "6n1Qgx_Z-sQP"
      },
      "id": "6n1Qgx_Z-sQP",
      "execution_count": 96,
      "outputs": []
    },
    {
      "cell_type": "code",
      "source": [
        "rta_dataset['EmergencyArea'].nunique()"
      ],
      "metadata": {
        "id": "tCPsKcKrA0XC",
        "colab": {
          "base_uri": "https://localhost:8080/"
        },
        "outputId": "8c6bc895-2d09-4502-8c39-9dddfd48bf29"
      },
      "id": "tCPsKcKrA0XC",
      "execution_count": 97,
      "outputs": [
        {
          "output_type": "execute_result",
          "data": {
            "text/plain": [
              "4364"
            ]
          },
          "metadata": {},
          "execution_count": 97
        }
      ]
    },
    {
      "metadata": {
        "id": "bf5a8d3bafd713bb"
      },
      "cell_type": "markdown",
      "source": [
        "### Looking for the most accident-prone areas"
      ],
      "id": "bf5a8d3bafd713bb"
    },
    {
      "cell_type": "code",
      "source": [
        "info_df = get_info(rta_dataset)\n",
        "filtered_cols = rta_dataset[info_df[info_df['n_unique'] < 10].index]\n",
        "to_encode = [{col: rta_dataset[col].unique()} for col in filtered_cols.columns if col in cat_cols]\n",
        "\n",
        "to_encode"
      ],
      "metadata": {
        "colab": {
          "base_uri": "https://localhost:8080/"
        },
        "id": "3nTmDV6Niblm",
        "outputId": "4c84e7a8-372c-4436-88a1-6ca24e2945b3"
      },
      "id": "3nTmDV6Niblm",
      "execution_count": 57,
      "outputs": [
        {
          "output_type": "stream",
          "name": "stdout",
          "text": [
            "Size: (40227, 24)\n"
          ]
        },
        {
          "output_type": "execute_result",
          "data": {
            "text/plain": [
              "[{'Gender': array(['Male', 'Female', 'Other'], dtype=object)},\n",
              " {'EducationTitle': array(['Intermediate', 'Illetrate', 'Matric', 'Primary', 'Graduation',\n",
              "         'Masters', 'Middle', 'PHD'], dtype=object)},\n",
              " {'InjuryType': array(['Minor', 'Single Fracture', 'Head Injury', 'Multiple Fractures',\n",
              "         'Spinal Injury'], dtype=object)},\n",
              " {'Cause': array(['Over Speed', 'Carelessness', 'Tyre Burst', 'U Turn', 'Others',\n",
              "         'Wrong Turn', 'One Wheeling'], dtype=object)},\n",
              " {'PatientStatus': array(['Alive & unstable', 'Alive & stable', 'Dead'], dtype=object)}]"
            ]
          },
          "metadata": {},
          "execution_count": 57
        }
      ]
    },
    {
      "metadata": {
        "ExecuteTime": {
          "end_time": "2024-09-24T16:34:56.412244Z",
          "start_time": "2024-09-24T16:34:55.137123Z"
        },
        "id": "24133e090cdcdad0"
      },
      "cell_type": "code",
      "source": [
        "from collections import Counter\n",
        "from nltk.corpus import stopwords\n",
        "from nltk.tokenize import RegexpTokenizer\n",
        "\n",
        "danger_zone = [\n",
        "    {status: Counter(rta_dataset[rta_dataset['PatientStatus'] == status]['EmergencyArea'].values)} for status in to_encode[4]['PatientStatus']\n",
        "]"
      ],
      "id": "24133e090cdcdad0",
      "outputs": [],
      "execution_count": 58
    },
    {
      "metadata": {
        "ExecuteTime": {
          "end_time": "2024-09-24T16:34:56.467483Z",
          "start_time": "2024-09-24T16:34:56.462281Z"
        },
        "id": "41aa82b21295223f"
      },
      "cell_type": "code",
      "source": [
        "top_20_dead_zone = danger_zone[2]['Dead'].most_common()[:20]\n",
        "top_20_unstable_zone = danger_zone[0]['Alive & unstable'].most_common()[:20]\n",
        "top_20_stable_zone = danger_zone[1]['Alive & stable'].most_common()[:20]"
      ],
      "id": "41aa82b21295223f",
      "outputs": [],
      "execution_count": 59
    },
    {
      "metadata": {
        "ExecuteTime": {
          "end_time": "2024-09-24T16:34:57.224508Z",
          "start_time": "2024-09-24T16:34:56.505687Z"
        },
        "id": "373fec218e9e2562"
      },
      "cell_type": "code",
      "source": [
        "fig, axes = plt.subplots(nrows=1, ncols=3, figsize=(12, 5))\n",
        "plt.subplots_adjust(hspace=.5)\n",
        "rotate = 90\n",
        "\n",
        "plot1 = sns.barplot(x=[x[0] for x in top_20_dead_zone], y=[x[1] for x in top_20_dead_zone], ax=axes[0])\n",
        "plot1.set_xticklabels(plot1.get_xticklabels(), rotation=rotate)\n",
        "plot1.set_title('Dead')\n",
        "\n",
        "plot2 = sns.barplot(x=[x[0] for x in top_20_unstable_zone], y=[x[1] for x in top_20_unstable_zone], ax=axes[1])\n",
        "plot2.set_xticklabels(plot2.get_xticklabels(), rotation=rotate)\n",
        "plot2.set_title('Unstable')\n",
        "\n",
        "plot3 = sns.barplot(x=[x[0] for x in top_20_stable_zone], y=[x[1] for x in top_20_stable_zone], ax=axes[2])\n",
        "plot3.set_xticklabels(plot3.get_xticklabels(), rotation=rotate)\n",
        "plot3.set_title('Stable')"
      ],
      "id": "373fec218e9e2562",
      "outputs": [],
      "execution_count": null
    },
    {
      "cell_type": "markdown",
      "source": [
        "### Preprocess Reason column with \"Same\" values"
      ],
      "metadata": {
        "id": "RZWPerOzWjEh"
      },
      "id": "RZWPerOzWjEh"
    },
    {
      "cell_type": "code",
      "source": [
        "rta_dataset.reset_index(drop=True, inplace=True)\n",
        "indexes_of_same = rta_dataset[rta_dataset['Reason'] == 'Same'].index\n",
        "print(indexes_of_same.shape)\n",
        "\n",
        "for index in indexes_of_same:\n",
        "    rta_dataset.loc[index, 'Reason'] = rta_dataset.loc[index-1, 'Reason']\n",
        "\n",
        "print(rta_dataset[rta_dataset['Reason'] == 'Same'].shape)"
      ],
      "metadata": {
        "colab": {
          "base_uri": "https://localhost:8080/"
        },
        "id": "notUUIsKjp90",
        "outputId": "5227db95-5a33-41aa-bee0-b787e913d598"
      },
      "id": "notUUIsKjp90",
      "execution_count": 98,
      "outputs": [
        {
          "output_type": "stream",
          "name": "stdout",
          "text": [
            "(472,)\n",
            "(0, 24)\n"
          ]
        }
      ]
    },
    {
      "cell_type": "code",
      "source": [],
      "metadata": {
        "id": "aGNAdRoK8pDD"
      },
      "id": "aGNAdRoK8pDD",
      "execution_count": 99,
      "outputs": []
    },
    {
      "metadata": {
        "ExecuteTime": {
          "end_time": "2024-09-24T16:35:12.005879Z",
          "start_time": "2024-09-24T16:34:57.262515Z"
        },
        "id": "db5b6e7fec057268"
      },
      "cell_type": "code",
      "source": [
        "import nltk\n",
        "from nltk.tokenize import word_tokenize\n",
        "from nltk.stem import WordNetLemmatizer\n",
        "import string\n",
        "import regex as re\n",
        "\n",
        "# Initialize wordnet lemmatizer\n",
        "wnl = WordNetLemmatizer()\n",
        "\n",
        "rta_dataset['reason_tokenized'] = None\n",
        "\n",
        "# remove all alphanumeric symbols\n",
        "for index, row in rta_dataset.iterrows():\n",
        "    sentence = row['Reason'].lower()\n",
        "    sentence = re.sub(r'[^a-z]', ' ', sentence)\n",
        "\n",
        "    tokenized_words = word_tokenize(sentence)\n",
        "    filtered_sentence = [\n",
        "        wnl.lemmatize(w) for w in tokenized_words if w not in stopwords.words('english')\n",
        "    ]\n",
        "\n",
        "    rta_dataset.loc[index, 'Reason'] = ','.join(list(set(filtered_sentence)))\n",
        "    rta_dataset['reason_tokenized'].loc[index] = filtered_sentence\n",
        "\n",
        "\n",
        "freq_reason_of_accident = [\n",
        "    {status: Counter(rta_dataset[rta_dataset['PatientStatus'] == status]['Reason'].sum().split(','))} for status in to_encode[4]['PatientStatus']\n",
        "]"
      ],
      "id": "db5b6e7fec057268",
      "outputs": [],
      "execution_count": 100
    },
    {
      "metadata": {
        "id": "d4cb0f531f4ff3f"
      },
      "cell_type": "markdown",
      "source": [
        "#### Looking for the most given reasoning for a accident"
      ],
      "id": "d4cb0f531f4ff3f"
    },
    {
      "metadata": {
        "ExecuteTime": {
          "end_time": "2024-09-24T16:35:12.065740Z",
          "start_time": "2024-09-24T16:35:12.058640Z"
        },
        "id": "a4cfab8c0b3c765e"
      },
      "cell_type": "code",
      "source": [
        "top_20_dead = freq_reason_of_accident[2]['Dead'].most_common()[:20]\n",
        "top_20_unstable = freq_reason_of_accident[0]['Alive & unstable'].most_common()[:20]\n",
        "top_20_stable = freq_reason_of_accident[1]['Alive & stable'].most_common()[:20]"
      ],
      "id": "a4cfab8c0b3c765e",
      "outputs": [],
      "execution_count": null
    },
    {
      "metadata": {
        "ExecuteTime": {
          "end_time": "2024-09-24T16:35:12.708882Z",
          "start_time": "2024-09-24T16:35:12.116088Z"
        },
        "id": "4fd6bfeb1a066010",
        "colab": {
          "base_uri": "https://localhost:8080/",
          "height": 469
        },
        "outputId": "1610c17a-0049-4b9f-a373-a1c9a8a4a450"
      },
      "cell_type": "code",
      "source": [
        "fig, axes = plt.subplots(nrows=1, ncols=3, figsize=(10, 5))\n",
        "plt.subplots_adjust(hspace=.5)\n",
        "rotate = 90\n",
        "\n",
        "plot1 = sns.barplot(x=[x[0] for x in top_20_dead], y=[x[1] for x in top_20_dead], ax=axes[0])\n",
        "plot1.set_xticklabels(plot1.get_xticklabels(), rotation=rotate)\n",
        "plot1.set_title('Dead')\n",
        "\n",
        "plot2 = sns.barplot(x=[x[0] for x in top_20_unstable], y=[x[1] for x in top_20_unstable], ax=axes[1])\n",
        "plot2.set_xticklabels(plot2.get_xticklabels(), rotation=rotate)\n",
        "plot2.set_title('Unstable')\n",
        "\n",
        "plot3 = sns.barplot(x=[x[0] for x in top_20_stable], y=[x[1] for x in top_20_stable], ax=axes[2])\n",
        "plot3.set_xticklabels(plot3.get_xticklabels(), rotation=rotate)\n",
        "plot3.set_title('Stable')"
      ],
      "id": "4fd6bfeb1a066010",
      "outputs": [
        {
          "output_type": "execute_result",
          "data": {
            "text/plain": [
              "Text(0.5, 1.0, 'Stable')"
            ]
          },
          "metadata": {},
          "execution_count": 115
        },
        {
          "output_type": "display_data",
          "data": {
            "text/plain": [
              "<Figure size 1000x500 with 3 Axes>"
            ],
            "image/png": "[encoded data removed]"
          },
          "metadata": {}
        }
      ],
      "execution_count": null
    },
    {
      "cell_type": "markdown",
      "source": [
        "#### Vectorize the Reason column"
      ],
      "metadata": {
        "id": "16_L-qlvbeWN"
      },
      "id": "16_L-qlvbeWN"
    },
    {
      "cell_type": "code",
      "source": [],
      "metadata": {
        "id": "C3pV6YZfqlPF"
      },
      "id": "C3pV6YZfqlPF",
      "execution_count": null,
      "outputs": []
    },
    {
      "cell_type": "code",
      "source": [
        "import gensim\n",
        "\n",
        "w2v_model = gensim.models.KeyedVectors.load_word2vec_format('drive/MyDrive/w2v_gn_pretrained.bin', binary=True)"
      ],
      "metadata": {
        "id": "t52fafs5bhHP"
      },
      "id": "t52fafs5bhHP",
      "execution_count": 2,
      "outputs": []
    },
    {
      "cell_type": "code",
      "source": [
        "def vectorize(word_list):\n",
        "  vectorized = None\n",
        "\n",
        "  if word_list == None:\n",
        "    word_list = np.zeros(300)\n",
        "\n",
        "  for word in word_list:\n",
        "    vectorized = [w2v_model[word] if word in w2v_model else np.zeros(300) for word in word_list]\n",
        "\n",
        "  vectorized = np.divide(np.sum(vectorized, axis=0), len(vectorized))\n",
        "  return vectorized\n",
        "\n",
        "# vectorized = vectorize(['bike', 'hit'])\n",
        "# print(vectorized)"
      ],
      "metadata": {
        "id": "g6Hq-cu35GUy"
      },
      "id": "g6Hq-cu35GUy",
      "execution_count": 107,
      "outputs": []
    },
    {
      "cell_type": "code",
      "source": [
        "rta_dataset[rta_dataset[\"Reason\"].isnull()]"
      ],
      "metadata": {
        "colab": {
          "base_uri": "https://localhost:8080/",
          "height": 547
        },
        "id": "qxsSOKGR2fyw",
        "outputId": "f28c472f-bd85-4a8c-ec94-c285d3d2f311"
      },
      "id": "qxsSOKGR2fyw",
      "execution_count": 109,
      "outputs": [
        {
          "output_type": "error",
          "ename": "KeyError",
          "evalue": "'Reason'",
          "traceback": [
            "\u001b[0;31m---------------------------------------------------------------------------\u001b[0m",
            "\u001b[0;31mKeyError\u001b[0m                                  Traceback (most recent call last)",
            "\u001b[0;32m/usr/local/lib/python3.10/dist-packages/pandas/core/indexes/base.py\u001b[0m in \u001b[0;36mget_loc\u001b[0;34m(self, key)\u001b[0m\n\u001b[1;32m   3804\u001b[0m         \u001b[0;32mtry\u001b[0m\u001b[0;34m:\u001b[0m\u001b[0;34m\u001b[0m\u001b[0;34m\u001b[0m\u001b[0m\n\u001b[0;32m-> 3805\u001b[0;31m             \u001b[0;32mreturn\u001b[0m \u001b[0mself\u001b[0m\u001b[0;34m.\u001b[0m\u001b[0m_engine\u001b[0m\u001b[0;34m.\u001b[0m\u001b[0mget_loc\u001b[0m\u001b[0;34m(\u001b[0m\u001b[0mcasted_key\u001b[0m\u001b[0;34m)\u001b[0m\u001b[0;34m\u001b[0m\u001b[0;34m\u001b[0m\u001b[0m\n\u001b[0m\u001b[1;32m   3806\u001b[0m         \u001b[0;32mexcept\u001b[0m \u001b[0mKeyError\u001b[0m \u001b[0;32mas\u001b[0m \u001b[0merr\u001b[0m\u001b[0;34m:\u001b[0m\u001b[0;34m\u001b[0m\u001b[0;34m\u001b[0m\u001b[0m\n",
            "\u001b[0;32mindex.pyx\u001b[0m in \u001b[0;36mpandas._libs.index.IndexEngine.get_loc\u001b[0;34m()\u001b[0m\n",
            "\u001b[0;32mindex.pyx\u001b[0m in \u001b[0;36mpandas._libs.index.IndexEngine.get_loc\u001b[0;34m()\u001b[0m\n",
            "\u001b[0;32mpandas/_libs/hashtable_class_helper.pxi\u001b[0m in \u001b[0;36mpandas._libs.hashtable.PyObjectHashTable.get_item\u001b[0;34m()\u001b[0m\n",
            "\u001b[0;32mpandas/_libs/hashtable_class_helper.pxi\u001b[0m in \u001b[0;36mpandas._libs.hashtable.PyObjectHashTable.get_item\u001b[0;34m()\u001b[0m\n",
            "\u001b[0;31mKeyError\u001b[0m: 'Reason'",
            "\nThe above exception was the direct cause of the following exception:\n",
            "\u001b[0;31mKeyError\u001b[0m                                  Traceback (most recent call last)",
            "\u001b[0;32m<ipython-input-109-b97abaf4b026>\u001b[0m in \u001b[0;36m<cell line: 1>\u001b[0;34m()\u001b[0m\n\u001b[0;32m----> 1\u001b[0;31m \u001b[0mrta_dataset\u001b[0m\u001b[0;34m[\u001b[0m\u001b[0mrta_dataset\u001b[0m\u001b[0;34m[\u001b[0m\u001b[0;34m\"Reason\"\u001b[0m\u001b[0;34m]\u001b[0m\u001b[0;34m.\u001b[0m\u001b[0misnull\u001b[0m\u001b[0;34m(\u001b[0m\u001b[0;34m)\u001b[0m\u001b[0;34m]\u001b[0m\u001b[0;34m\u001b[0m\u001b[0;34m\u001b[0m\u001b[0m\n\u001b[0m",
            "\u001b[0;32m/usr/local/lib/python3.10/dist-packages/pandas/core/frame.py\u001b[0m in \u001b[0;36m__getitem__\u001b[0;34m(self, key)\u001b[0m\n\u001b[1;32m   4100\u001b[0m             \u001b[0;32mif\u001b[0m \u001b[0mself\u001b[0m\u001b[0;34m.\u001b[0m\u001b[0mcolumns\u001b[0m\u001b[0;34m.\u001b[0m\u001b[0mnlevels\u001b[0m \u001b[0;34m>\u001b[0m \u001b[0;36m1\u001b[0m\u001b[0;34m:\u001b[0m\u001b[0;34m\u001b[0m\u001b[0;34m\u001b[0m\u001b[0m\n\u001b[1;32m   4101\u001b[0m                 \u001b[0;32mreturn\u001b[0m \u001b[0mself\u001b[0m\u001b[0;34m.\u001b[0m\u001b[0m_getitem_multilevel\u001b[0m\u001b[0;34m(\u001b[0m\u001b[0mkey\u001b[0m\u001b[0;34m)\u001b[0m\u001b[0;34m\u001b[0m\u001b[0;34m\u001b[0m\u001b[0m\n\u001b[0;32m-> 4102\u001b[0;31m             \u001b[0mindexer\u001b[0m \u001b[0;34m=\u001b[0m \u001b[0mself\u001b[0m\u001b[0;34m.\u001b[0m\u001b[0mcolumns\u001b[0m\u001b[0;34m.\u001b[0m\u001b[0mget_loc\u001b[0m\u001b[0;34m(\u001b[0m\u001b[0mkey\u001b[0m\u001b[0;34m)\u001b[0m\u001b[0;34m\u001b[0m\u001b[0;34m\u001b[0m\u001b[0m\n\u001b[0m\u001b[1;32m   4103\u001b[0m             \u001b[0;32mif\u001b[0m \u001b[0mis_integer\u001b[0m\u001b[0;34m(\u001b[0m\u001b[0mindexer\u001b[0m\u001b[0;34m)\u001b[0m\u001b[0;34m:\u001b[0m\u001b[0;34m\u001b[0m\u001b[0;34m\u001b[0m\u001b[0m\n\u001b[1;32m   4104\u001b[0m                 \u001b[0mindexer\u001b[0m \u001b[0;34m=\u001b[0m \u001b[0;34m[\u001b[0m\u001b[0mindexer\u001b[0m\u001b[0;34m]\u001b[0m\u001b[0;34m\u001b[0m\u001b[0;34m\u001b[0m\u001b[0m\n",
            "\u001b[0;32m/usr/local/lib/python3.10/dist-packages/pandas/core/indexes/base.py\u001b[0m in \u001b[0;36mget_loc\u001b[0;34m(self, key)\u001b[0m\n\u001b[1;32m   3810\u001b[0m             ):\n\u001b[1;32m   3811\u001b[0m                 \u001b[0;32mraise\u001b[0m \u001b[0mInvalidIndexError\u001b[0m\u001b[0;34m(\u001b[0m\u001b[0mkey\u001b[0m\u001b[0;34m)\u001b[0m\u001b[0;34m\u001b[0m\u001b[0;34m\u001b[0m\u001b[0m\n\u001b[0;32m-> 3812\u001b[0;31m             \u001b[0;32mraise\u001b[0m \u001b[0mKeyError\u001b[0m\u001b[0;34m(\u001b[0m\u001b[0mkey\u001b[0m\u001b[0;34m)\u001b[0m \u001b[0;32mfrom\u001b[0m \u001b[0merr\u001b[0m\u001b[0;34m\u001b[0m\u001b[0;34m\u001b[0m\u001b[0m\n\u001b[0m\u001b[1;32m   3813\u001b[0m         \u001b[0;32mexcept\u001b[0m \u001b[0mTypeError\u001b[0m\u001b[0;34m:\u001b[0m\u001b[0;34m\u001b[0m\u001b[0;34m\u001b[0m\u001b[0m\n\u001b[1;32m   3814\u001b[0m             \u001b[0;31m# If we have a listlike key, _check_indexing_error will raise\u001b[0m\u001b[0;34m\u001b[0m\u001b[0;34m\u001b[0m\u001b[0m\n",
            "\u001b[0;31mKeyError\u001b[0m: 'Reason'"
          ]
        }
      ]
    },
    {
      "cell_type": "code",
      "source": [
        "rta_dataset[\"reason_tokenized\"] = rta_dataset[\"reason_tokenized\"].apply(vectorize)\n",
        "rta_dataset['reason_tokenized'].loc[0:5]"
      ],
      "metadata": {
        "colab": {
          "base_uri": "https://localhost:8080/",
          "height": 339
        },
        "id": "uP9M7HIxyMMI",
        "outputId": "a4a9aa4d-4274-42b9-d285-bf97afdb1f3e"
      },
      "id": "uP9M7HIxyMMI",
      "execution_count": 108,
      "outputs": [
        {
          "output_type": "error",
          "ename": "TypeError",
          "evalue": "object of type 'NoneType' has no len()",
          "traceback": [
            "\u001b[0;31m---------------------------------------------------------------------------\u001b[0m",
            "\u001b[0;31mTypeError\u001b[0m                                 Traceback (most recent call last)",
            "\u001b[0;32m<ipython-input-108-3729ce269ffd>\u001b[0m in \u001b[0;36m<cell line: 1>\u001b[0;34m()\u001b[0m\n\u001b[0;32m----> 1\u001b[0;31m \u001b[0mrta_dataset\u001b[0m\u001b[0;34m[\u001b[0m\u001b[0;34m\"reason_tokenized\"\u001b[0m\u001b[0;34m]\u001b[0m \u001b[0;34m=\u001b[0m \u001b[0mrta_dataset\u001b[0m\u001b[0;34m[\u001b[0m\u001b[0;34m\"reason_tokenized\"\u001b[0m\u001b[0;34m]\u001b[0m\u001b[0;34m.\u001b[0m\u001b[0mapply\u001b[0m\u001b[0;34m(\u001b[0m\u001b[0mvectorize\u001b[0m\u001b[0;34m)\u001b[0m\u001b[0;34m\u001b[0m\u001b[0;34m\u001b[0m\u001b[0m\n\u001b[0m\u001b[1;32m      2\u001b[0m \u001b[0mrta_dataset\u001b[0m\u001b[0;34m[\u001b[0m\u001b[0;34m'reason_tokenized'\u001b[0m\u001b[0;34m]\u001b[0m\u001b[0;34m.\u001b[0m\u001b[0mloc\u001b[0m\u001b[0;34m[\u001b[0m\u001b[0;36m0\u001b[0m\u001b[0;34m:\u001b[0m\u001b[0;36m5\u001b[0m\u001b[0;34m]\u001b[0m\u001b[0;34m\u001b[0m\u001b[0;34m\u001b[0m\u001b[0m\n",
            "\u001b[0;32m/usr/local/lib/python3.10/dist-packages/pandas/core/series.py\u001b[0m in \u001b[0;36mapply\u001b[0;34m(self, func, convert_dtype, args, by_row, **kwargs)\u001b[0m\n\u001b[1;32m   4922\u001b[0m             \u001b[0margs\u001b[0m\u001b[0;34m=\u001b[0m\u001b[0margs\u001b[0m\u001b[0;34m,\u001b[0m\u001b[0;34m\u001b[0m\u001b[0;34m\u001b[0m\u001b[0m\n\u001b[1;32m   4923\u001b[0m             \u001b[0mkwargs\u001b[0m\u001b[0;34m=\u001b[0m\u001b[0mkwargs\u001b[0m\u001b[0;34m,\u001b[0m\u001b[0;34m\u001b[0m\u001b[0;34m\u001b[0m\u001b[0m\n\u001b[0;32m-> 4924\u001b[0;31m         ).apply()\n\u001b[0m\u001b[1;32m   4925\u001b[0m \u001b[0;34m\u001b[0m\u001b[0m\n\u001b[1;32m   4926\u001b[0m     def _reindex_indexer(\n",
            "\u001b[0;32m/usr/local/lib/python3.10/dist-packages/pandas/core/apply.py\u001b[0m in \u001b[0;36mapply\u001b[0;34m(self)\u001b[0m\n\u001b[1;32m   1425\u001b[0m \u001b[0;34m\u001b[0m\u001b[0m\n\u001b[1;32m   1426\u001b[0m         \u001b[0;31m# self.func is Callable\u001b[0m\u001b[0;34m\u001b[0m\u001b[0;34m\u001b[0m\u001b[0m\n\u001b[0;32m-> 1427\u001b[0;31m         \u001b[0;32mreturn\u001b[0m \u001b[0mself\u001b[0m\u001b[0;34m.\u001b[0m\u001b[0mapply_standard\u001b[0m\u001b[0;34m(\u001b[0m\u001b[0;34m)\u001b[0m\u001b[0;34m\u001b[0m\u001b[0;34m\u001b[0m\u001b[0m\n\u001b[0m\u001b[1;32m   1428\u001b[0m \u001b[0;34m\u001b[0m\u001b[0m\n\u001b[1;32m   1429\u001b[0m     \u001b[0;32mdef\u001b[0m \u001b[0magg\u001b[0m\u001b[0;34m(\u001b[0m\u001b[0mself\u001b[0m\u001b[0;34m)\u001b[0m\u001b[0;34m:\u001b[0m\u001b[0;34m\u001b[0m\u001b[0;34m\u001b[0m\u001b[0m\n",
            "\u001b[0;32m/usr/local/lib/python3.10/dist-packages/pandas/core/apply.py\u001b[0m in \u001b[0;36mapply_standard\u001b[0;34m(self)\u001b[0m\n\u001b[1;32m   1505\u001b[0m         \u001b[0;31m#  Categorical (GH51645).\u001b[0m\u001b[0;34m\u001b[0m\u001b[0;34m\u001b[0m\u001b[0m\n\u001b[1;32m   1506\u001b[0m         \u001b[0maction\u001b[0m \u001b[0;34m=\u001b[0m \u001b[0;34m\"ignore\"\u001b[0m \u001b[0;32mif\u001b[0m \u001b[0misinstance\u001b[0m\u001b[0;34m(\u001b[0m\u001b[0mobj\u001b[0m\u001b[0;34m.\u001b[0m\u001b[0mdtype\u001b[0m\u001b[0;34m,\u001b[0m \u001b[0mCategoricalDtype\u001b[0m\u001b[0;34m)\u001b[0m \u001b[0;32melse\u001b[0m \u001b[0;32mNone\u001b[0m\u001b[0;34m\u001b[0m\u001b[0;34m\u001b[0m\u001b[0m\n\u001b[0;32m-> 1507\u001b[0;31m         mapped = obj._map_values(\n\u001b[0m\u001b[1;32m   1508\u001b[0m             \u001b[0mmapper\u001b[0m\u001b[0;34m=\u001b[0m\u001b[0mcurried\u001b[0m\u001b[0;34m,\u001b[0m \u001b[0mna_action\u001b[0m\u001b[0;34m=\u001b[0m\u001b[0maction\u001b[0m\u001b[0;34m,\u001b[0m \u001b[0mconvert\u001b[0m\u001b[0;34m=\u001b[0m\u001b[0mself\u001b[0m\u001b[0;34m.\u001b[0m\u001b[0mconvert_dtype\u001b[0m\u001b[0;34m\u001b[0m\u001b[0;34m\u001b[0m\u001b[0m\n\u001b[1;32m   1509\u001b[0m         )\n",
            "\u001b[0;32m/usr/local/lib/python3.10/dist-packages/pandas/core/base.py\u001b[0m in \u001b[0;36m_map_values\u001b[0;34m(self, mapper, na_action, convert)\u001b[0m\n\u001b[1;32m    919\u001b[0m             \u001b[0;32mreturn\u001b[0m \u001b[0marr\u001b[0m\u001b[0;34m.\u001b[0m\u001b[0mmap\u001b[0m\u001b[0;34m(\u001b[0m\u001b[0mmapper\u001b[0m\u001b[0;34m,\u001b[0m \u001b[0mna_action\u001b[0m\u001b[0;34m=\u001b[0m\u001b[0mna_action\u001b[0m\u001b[0;34m)\u001b[0m\u001b[0;34m\u001b[0m\u001b[0;34m\u001b[0m\u001b[0m\n\u001b[1;32m    920\u001b[0m \u001b[0;34m\u001b[0m\u001b[0m\n\u001b[0;32m--> 921\u001b[0;31m         \u001b[0;32mreturn\u001b[0m \u001b[0malgorithms\u001b[0m\u001b[0;34m.\u001b[0m\u001b[0mmap_array\u001b[0m\u001b[0;34m(\u001b[0m\u001b[0marr\u001b[0m\u001b[0;34m,\u001b[0m \u001b[0mmapper\u001b[0m\u001b[0;34m,\u001b[0m \u001b[0mna_action\u001b[0m\u001b[0;34m=\u001b[0m\u001b[0mna_action\u001b[0m\u001b[0;34m,\u001b[0m \u001b[0mconvert\u001b[0m\u001b[0;34m=\u001b[0m\u001b[0mconvert\u001b[0m\u001b[0;34m)\u001b[0m\u001b[0;34m\u001b[0m\u001b[0;34m\u001b[0m\u001b[0m\n\u001b[0m\u001b[1;32m    922\u001b[0m \u001b[0;34m\u001b[0m\u001b[0m\n\u001b[1;32m    923\u001b[0m     \u001b[0;34m@\u001b[0m\u001b[0mfinal\u001b[0m\u001b[0;34m\u001b[0m\u001b[0;34m\u001b[0m\u001b[0m\n",
            "\u001b[0;32m/usr/local/lib/python3.10/dist-packages/pandas/core/algorithms.py\u001b[0m in \u001b[0;36mmap_array\u001b[0;34m(arr, mapper, na_action, convert)\u001b[0m\n\u001b[1;32m   1741\u001b[0m     \u001b[0mvalues\u001b[0m \u001b[0;34m=\u001b[0m \u001b[0marr\u001b[0m\u001b[0;34m.\u001b[0m\u001b[0mastype\u001b[0m\u001b[0;34m(\u001b[0m\u001b[0mobject\u001b[0m\u001b[0;34m,\u001b[0m \u001b[0mcopy\u001b[0m\u001b[0;34m=\u001b[0m\u001b[0;32mFalse\u001b[0m\u001b[0;34m)\u001b[0m\u001b[0;34m\u001b[0m\u001b[0;34m\u001b[0m\u001b[0m\n\u001b[1;32m   1742\u001b[0m     \u001b[0;32mif\u001b[0m \u001b[0mna_action\u001b[0m \u001b[0;32mis\u001b[0m \u001b[0;32mNone\u001b[0m\u001b[0;34m:\u001b[0m\u001b[0;34m\u001b[0m\u001b[0;34m\u001b[0m\u001b[0m\n\u001b[0;32m-> 1743\u001b[0;31m         \u001b[0;32mreturn\u001b[0m \u001b[0mlib\u001b[0m\u001b[0;34m.\u001b[0m\u001b[0mmap_infer\u001b[0m\u001b[0;34m(\u001b[0m\u001b[0mvalues\u001b[0m\u001b[0;34m,\u001b[0m \u001b[0mmapper\u001b[0m\u001b[0;34m,\u001b[0m \u001b[0mconvert\u001b[0m\u001b[0;34m=\u001b[0m\u001b[0mconvert\u001b[0m\u001b[0;34m)\u001b[0m\u001b[0;34m\u001b[0m\u001b[0;34m\u001b[0m\u001b[0m\n\u001b[0m\u001b[1;32m   1744\u001b[0m     \u001b[0;32melse\u001b[0m\u001b[0;34m:\u001b[0m\u001b[0;34m\u001b[0m\u001b[0;34m\u001b[0m\u001b[0m\n\u001b[1;32m   1745\u001b[0m         return lib.map_infer_mask(\n",
            "\u001b[0;32mlib.pyx\u001b[0m in \u001b[0;36mpandas._libs.lib.map_infer\u001b[0;34m()\u001b[0m\n",
            "\u001b[0;32m<ipython-input-107-4baa1f83aaed>\u001b[0m in \u001b[0;36mvectorize\u001b[0;34m(word_list)\u001b[0m\n\u001b[1;32m      8\u001b[0m     \u001b[0mvectorized\u001b[0m \u001b[0;34m=\u001b[0m \u001b[0;34m[\u001b[0m\u001b[0mw2v_model\u001b[0m\u001b[0;34m[\u001b[0m\u001b[0mword\u001b[0m\u001b[0;34m]\u001b[0m \u001b[0;32mif\u001b[0m \u001b[0mword\u001b[0m \u001b[0;32min\u001b[0m \u001b[0mw2v_model\u001b[0m \u001b[0;32melse\u001b[0m \u001b[0mnp\u001b[0m\u001b[0;34m.\u001b[0m\u001b[0mzeros\u001b[0m\u001b[0;34m(\u001b[0m\u001b[0;36m300\u001b[0m\u001b[0;34m)\u001b[0m \u001b[0;32mfor\u001b[0m \u001b[0mword\u001b[0m \u001b[0;32min\u001b[0m \u001b[0mword_list\u001b[0m\u001b[0;34m]\u001b[0m\u001b[0;34m\u001b[0m\u001b[0;34m\u001b[0m\u001b[0m\n\u001b[1;32m      9\u001b[0m \u001b[0;34m\u001b[0m\u001b[0m\n\u001b[0;32m---> 10\u001b[0;31m   \u001b[0mvectorized\u001b[0m \u001b[0;34m=\u001b[0m \u001b[0mnp\u001b[0m\u001b[0;34m.\u001b[0m\u001b[0mdivide\u001b[0m\u001b[0;34m(\u001b[0m\u001b[0mnp\u001b[0m\u001b[0;34m.\u001b[0m\u001b[0msum\u001b[0m\u001b[0;34m(\u001b[0m\u001b[0mvectorized\u001b[0m\u001b[0;34m,\u001b[0m \u001b[0maxis\u001b[0m\u001b[0;34m=\u001b[0m\u001b[0;36m0\u001b[0m\u001b[0;34m)\u001b[0m\u001b[0;34m,\u001b[0m \u001b[0mlen\u001b[0m\u001b[0;34m(\u001b[0m\u001b[0mvectorized\u001b[0m\u001b[0;34m)\u001b[0m\u001b[0;34m)\u001b[0m\u001b[0;34m\u001b[0m\u001b[0;34m\u001b[0m\u001b[0m\n\u001b[0m\u001b[1;32m     11\u001b[0m   \u001b[0;32mreturn\u001b[0m \u001b[0mvectorized\u001b[0m\u001b[0;34m\u001b[0m\u001b[0;34m\u001b[0m\u001b[0m\n\u001b[1;32m     12\u001b[0m \u001b[0;34m\u001b[0m\u001b[0m\n",
            "\u001b[0;31mTypeError\u001b[0m: object of type 'NoneType' has no len()"
          ]
        }
      ]
    },
    {
      "metadata": {
        "id": "3f577ae9f3ee6231"
      },
      "cell_type": "markdown",
      "source": [
        "### Encoding the values"
      ],
      "id": "3f577ae9f3ee6231"
    },
    {
      "metadata": {
        "ExecuteTime": {
          "end_time": "2024-09-24T16:35:12.796768Z",
          "start_time": "2024-09-24T16:35:12.758741Z"
        },
        "id": "8902c52011651d1b"
      },
      "cell_type": "code",
      "source": [
        "# label encoder\n",
        "to_map = {\n",
        "    'InjuryType':{},\n",
        "    'Cause':{},\n",
        "    'EducationTitle':{},\n",
        "    'PatientStatus':{},\n",
        "    'CallHour':{},\n",
        "    'CallMonth':{}\n",
        "  }\n",
        "\n",
        "for col in to_map:\n",
        "    unq = rta_dataset[col].unique()\n",
        "    to_map[col] = {unq[i]: i for i in range(len(unq))}\n",
        "    rta_dataset[col] = rta_dataset[col].map(to_map[col])\n",
        "\n",
        "# Onehot Encoding\n",
        "rta_dataset = pd.get_dummies(rta_dataset, columns=[\"Gender\"], drop_first=True)"
      ],
      "id": "8902c52011651d1b",
      "outputs": [],
      "execution_count": null
    },
    {
      "metadata": {
        "ExecuteTime": {
          "end_time": "2024-09-24T16:35:12.876797Z",
          "start_time": "2024-09-24T16:35:12.847627Z"
        },
        "id": "397ea4994eb40e19"
      },
      "cell_type": "code",
      "source": [
        "from sklearn.preprocessing import LabelEncoder\n",
        "le = LabelEncoder()\n",
        "rta_dataset[\"EmergencyArea\"] = le.fit_transform(rta_dataset[\"EmergencyArea\"])"
      ],
      "id": "397ea4994eb40e19",
      "outputs": [],
      "execution_count": 79
    },
    {
      "cell_type": "code",
      "source": [
        "rta_dataset.columns"
      ],
      "metadata": {
        "id": "92sWp65sUTib",
        "colab": {
          "base_uri": "https://localhost:8080/"
        },
        "outputId": "ec5b0445-0580-4a97-8041-de1c8e426b24"
      },
      "id": "92sWp65sUTib",
      "execution_count": 80,
      "outputs": [
        {
          "output_type": "execute_result",
          "data": {
            "text/plain": [
              "Index(['EmergencyArea', 'TotalPatientsInEmergency', 'Age', 'Reason',\n",
              "       'responsetime', 'EducationTitle', 'InjuryType', 'Cause',\n",
              "       'PatientStatus', 'BicycleInvovled', 'BikesInvolved', 'BusesInvolved',\n",
              "       'CarsInvolved', 'CartInvovled', 'RickshawsInvolved', 'TractorInvovled',\n",
              "       'TrainsInvovled', 'TrucksInvolved', 'VansInvolved', 'OthersInvolved',\n",
              "       'CallHour', 'CallDayOfWeek', 'CallMonth', 'reason_tokenized',\n",
              "       'Gender_Male', 'Gender_Other'],\n",
              "      dtype='object')"
            ]
          },
          "metadata": {},
          "execution_count": 80
        }
      ]
    },
    {
      "cell_type": "code",
      "source": [
        "sns.countplot(data=rta_dataset, x='responsetime', hue=\"PatientStatus\")"
      ],
      "metadata": {
        "colab": {
          "base_uri": "https://localhost:8080/",
          "height": 466
        },
        "id": "MQOgdQvW5_z6",
        "outputId": "eaef9077-adeb-49a2-812c-34593281975d"
      },
      "id": "MQOgdQvW5_z6",
      "execution_count": 83,
      "outputs": [
        {
          "output_type": "execute_result",
          "data": {
            "text/plain": [
              "<Axes: xlabel='responsetime', ylabel='count'>"
            ]
          },
          "metadata": {},
          "execution_count": 83
        },
        {
          "output_type": "display_data",
          "data": {
            "text/plain": [
              "<Figure size 640x480 with 1 Axes>"
            ],
            "image/png": "[encoded data removed]"
          },
          "metadata": {}
        }
      ]
    },
    {
      "cell_type": "code",
      "source": [
        "rta_dataset.drop(columns=[\"TotalPatientsInEmergency\", \"Reason\", \"responsetime\"], axis=\"columns\", inplace=True)"
      ],
      "metadata": {
        "id": "3vZSwar16U7p"
      },
      "id": "3vZSwar16U7p",
      "execution_count": 104,
      "outputs": []
    },
    {
      "cell_type": "code",
      "source": [
        "from sklearn.linear_model import LogisticRegressionCV\n",
        "from sklearn.model_selection import train_test_split\n",
        "\n",
        "X_train, X_test, Y_train, Y_test = train_test_split(\n",
        "    rta_dataset.drop([\"PatientStatus\"], axis=\"columns\"),\n",
        "    rta_dataset[\"PatientStatus\"],\n",
        "    test_size=0.2,\n",
        "    shuffle=True\n",
        ")\n",
        "\n",
        "lr_cv = LogisticRegressionCV(cv=5, solver=\"saga\")\n",
        "\n",
        "lr_cv.fit(X_train, Y_train)"
      ],
      "metadata": {
        "colab": {
          "base_uri": "https://localhost:8080/",
          "height": 408
        },
        "id": "6kH8-2Ci6z4B",
        "outputId": "e646d6f4-20a3-4e76-f484-8725069c9239"
      },
      "id": "6kH8-2Ci6z4B",
      "execution_count": 86,
      "outputs": [
        {
          "output_type": "error",
          "ename": "ValueError",
          "evalue": "setting an array element with a sequence.",
          "traceback": [
            "\u001b[0;31m---------------------------------------------------------------------------\u001b[0m",
            "\u001b[0;31mTypeError\u001b[0m                                 Traceback (most recent call last)",
            "\u001b[0;31mTypeError\u001b[0m: only length-1 arrays can be converted to Python scalars",
            "\nThe above exception was the direct cause of the following exception:\n",
            "\u001b[0;31mValueError\u001b[0m                                Traceback (most recent call last)",
            "\u001b[0;32m<ipython-input-86-8c9169ee3188>\u001b[0m in \u001b[0;36m<cell line: 4>\u001b[0;34m()\u001b[0m\n\u001b[1;32m      2\u001b[0m \u001b[0;34m\u001b[0m\u001b[0m\n\u001b[1;32m      3\u001b[0m \u001b[0moversample\u001b[0m \u001b[0;34m=\u001b[0m \u001b[0mSMOTE\u001b[0m\u001b[0;34m(\u001b[0m\u001b[0;34m)\u001b[0m\u001b[0;34m\u001b[0m\u001b[0;34m\u001b[0m\u001b[0m\n\u001b[0;32m----> 4\u001b[0;31m \u001b[0mX\u001b[0m\u001b[0;34m,\u001b[0m \u001b[0my\u001b[0m \u001b[0;34m=\u001b[0m \u001b[0moversample\u001b[0m\u001b[0;34m.\u001b[0m\u001b[0mfit_resample\u001b[0m\u001b[0;34m(\u001b[0m\u001b[0mrta_dataset\u001b[0m\u001b[0;34m.\u001b[0m\u001b[0mdrop\u001b[0m\u001b[0;34m(\u001b[0m\u001b[0mcolumns\u001b[0m\u001b[0;34m=\u001b[0m\u001b[0;34m[\u001b[0m\u001b[0;34m\"PatientStatus\"\u001b[0m\u001b[0;34m]\u001b[0m\u001b[0;34m,\u001b[0m \u001b[0maxis\u001b[0m\u001b[0;34m=\u001b[0m\u001b[0;34m\"columns\"\u001b[0m\u001b[0;34m)\u001b[0m\u001b[0;34m,\u001b[0m \u001b[0mrta_dataset\u001b[0m\u001b[0;34m[\u001b[0m\u001b[0;34m\"PatientStatus\"\u001b[0m\u001b[0;34m]\u001b[0m\u001b[0;34m)\u001b[0m\u001b[0;34m\u001b[0m\u001b[0;34m\u001b[0m\u001b[0m\n\u001b[0m",
            "\u001b[0;32m/usr/local/lib/python3.10/dist-packages/imblearn/base.py\u001b[0m in \u001b[0;36mfit_resample\u001b[0;34m(self, X, y)\u001b[0m\n\u001b[1;32m    206\u001b[0m         \"\"\"\n\u001b[1;32m    207\u001b[0m         \u001b[0mself\u001b[0m\u001b[0;34m.\u001b[0m\u001b[0m_validate_params\u001b[0m\u001b[0;34m(\u001b[0m\u001b[0;34m)\u001b[0m\u001b[0;34m\u001b[0m\u001b[0;34m\u001b[0m\u001b[0m\n\u001b[0;32m--> 208\u001b[0;31m         \u001b[0;32mreturn\u001b[0m \u001b[0msuper\u001b[0m\u001b[0;34m(\u001b[0m\u001b[0;34m)\u001b[0m\u001b[0;34m.\u001b[0m\u001b[0mfit_resample\u001b[0m\u001b[0;34m(\u001b[0m\u001b[0mX\u001b[0m\u001b[0;34m,\u001b[0m \u001b[0my\u001b[0m\u001b[0;34m)\u001b[0m\u001b[0;34m\u001b[0m\u001b[0;34m\u001b[0m\u001b[0m\n\u001b[0m\u001b[1;32m    209\u001b[0m \u001b[0;34m\u001b[0m\u001b[0m\n\u001b[1;32m    210\u001b[0m     \u001b[0;32mdef\u001b[0m \u001b[0m_more_tags\u001b[0m\u001b[0;34m(\u001b[0m\u001b[0mself\u001b[0m\u001b[0;34m)\u001b[0m\u001b[0;34m:\u001b[0m\u001b[0;34m\u001b[0m\u001b[0;34m\u001b[0m\u001b[0m\n",
            "\u001b[0;32m/usr/local/lib/python3.10/dist-packages/imblearn/base.py\u001b[0m in \u001b[0;36mfit_resample\u001b[0;34m(self, X, y)\u001b[0m\n\u001b[1;32m    104\u001b[0m         \u001b[0mcheck_classification_targets\u001b[0m\u001b[0;34m(\u001b[0m\u001b[0my\u001b[0m\u001b[0;34m)\u001b[0m\u001b[0;34m\u001b[0m\u001b[0;34m\u001b[0m\u001b[0m\n\u001b[1;32m    105\u001b[0m         \u001b[0marrays_transformer\u001b[0m \u001b[0;34m=\u001b[0m \u001b[0mArraysTransformer\u001b[0m\u001b[0;34m(\u001b[0m\u001b[0mX\u001b[0m\u001b[0;34m,\u001b[0m \u001b[0my\u001b[0m\u001b[0;34m)\u001b[0m\u001b[0;34m\u001b[0m\u001b[0;34m\u001b[0m\u001b[0m\n\u001b[0;32m--> 106\u001b[0;31m         \u001b[0mX\u001b[0m\u001b[0;34m,\u001b[0m \u001b[0my\u001b[0m\u001b[0;34m,\u001b[0m \u001b[0mbinarize_y\u001b[0m \u001b[0;34m=\u001b[0m \u001b[0mself\u001b[0m\u001b[0;34m.\u001b[0m\u001b[0m_check_X_y\u001b[0m\u001b[0;34m(\u001b[0m\u001b[0mX\u001b[0m\u001b[0;34m,\u001b[0m \u001b[0my\u001b[0m\u001b[0;34m)\u001b[0m\u001b[0;34m\u001b[0m\u001b[0;34m\u001b[0m\u001b[0m\n\u001b[0m\u001b[1;32m    107\u001b[0m \u001b[0;34m\u001b[0m\u001b[0m\n\u001b[1;32m    108\u001b[0m         self.sampling_strategy_ = check_sampling_strategy(\n",
            "\u001b[0;32m/usr/local/lib/python3.10/dist-packages/imblearn/base.py\u001b[0m in \u001b[0;36m_check_X_y\u001b[0;34m(self, X, y, accept_sparse)\u001b[0m\n\u001b[1;32m    159\u001b[0m             \u001b[0maccept_sparse\u001b[0m \u001b[0;34m=\u001b[0m \u001b[0;34m[\u001b[0m\u001b[0;34m\"csr\"\u001b[0m\u001b[0;34m,\u001b[0m \u001b[0;34m\"csc\"\u001b[0m\u001b[0;34m]\u001b[0m\u001b[0;34m\u001b[0m\u001b[0;34m\u001b[0m\u001b[0m\n\u001b[1;32m    160\u001b[0m         \u001b[0my\u001b[0m\u001b[0;34m,\u001b[0m \u001b[0mbinarize_y\u001b[0m \u001b[0;34m=\u001b[0m \u001b[0mcheck_target_type\u001b[0m\u001b[0;34m(\u001b[0m\u001b[0my\u001b[0m\u001b[0;34m,\u001b[0m \u001b[0mindicate_one_vs_all\u001b[0m\u001b[0;34m=\u001b[0m\u001b[0;32mTrue\u001b[0m\u001b[0;34m)\u001b[0m\u001b[0;34m\u001b[0m\u001b[0;34m\u001b[0m\u001b[0m\n\u001b[0;32m--> 161\u001b[0;31m         \u001b[0mX\u001b[0m\u001b[0;34m,\u001b[0m \u001b[0my\u001b[0m \u001b[0;34m=\u001b[0m \u001b[0mself\u001b[0m\u001b[0;34m.\u001b[0m\u001b[0m_validate_data\u001b[0m\u001b[0;34m(\u001b[0m\u001b[0mX\u001b[0m\u001b[0;34m,\u001b[0m \u001b[0my\u001b[0m\u001b[0;34m,\u001b[0m \u001b[0mreset\u001b[0m\u001b[0;34m=\u001b[0m\u001b[0;32mTrue\u001b[0m\u001b[0;34m,\u001b[0m \u001b[0maccept_sparse\u001b[0m\u001b[0;34m=\u001b[0m\u001b[0maccept_sparse\u001b[0m\u001b[0;34m)\u001b[0m\u001b[0;34m\u001b[0m\u001b[0;34m\u001b[0m\u001b[0m\n\u001b[0m\u001b[1;32m    162\u001b[0m         \u001b[0;32mreturn\u001b[0m \u001b[0mX\u001b[0m\u001b[0;34m,\u001b[0m \u001b[0my\u001b[0m\u001b[0;34m,\u001b[0m \u001b[0mbinarize_y\u001b[0m\u001b[0;34m\u001b[0m\u001b[0;34m\u001b[0m\u001b[0m\n\u001b[1;32m    163\u001b[0m \u001b[0;34m\u001b[0m\u001b[0m\n",
            "\u001b[0;32m/usr/local/lib/python3.10/dist-packages/sklearn/base.py\u001b[0m in \u001b[0;36m_validate_data\u001b[0;34m(self, X, y, reset, validate_separately, cast_to_ndarray, **check_params)\u001b[0m\n\u001b[1;32m    648\u001b[0m                 \u001b[0my\u001b[0m \u001b[0;34m=\u001b[0m \u001b[0mcheck_array\u001b[0m\u001b[0;34m(\u001b[0m\u001b[0my\u001b[0m\u001b[0;34m,\u001b[0m \u001b[0minput_name\u001b[0m\u001b[0;34m=\u001b[0m\u001b[0;34m\"y\"\u001b[0m\u001b[0;34m,\u001b[0m \u001b[0;34m**\u001b[0m\u001b[0mcheck_y_params\u001b[0m\u001b[0;34m)\u001b[0m\u001b[0;34m\u001b[0m\u001b[0;34m\u001b[0m\u001b[0m\n\u001b[1;32m    649\u001b[0m             \u001b[0;32melse\u001b[0m\u001b[0;34m:\u001b[0m\u001b[0;34m\u001b[0m\u001b[0;34m\u001b[0m\u001b[0m\n\u001b[0;32m--> 650\u001b[0;31m                 \u001b[0mX\u001b[0m\u001b[0;34m,\u001b[0m \u001b[0my\u001b[0m \u001b[0;34m=\u001b[0m \u001b[0mcheck_X_y\u001b[0m\u001b[0;34m(\u001b[0m\u001b[0mX\u001b[0m\u001b[0;34m,\u001b[0m \u001b[0my\u001b[0m\u001b[0;34m,\u001b[0m \u001b[0;34m**\u001b[0m\u001b[0mcheck_params\u001b[0m\u001b[0;34m)\u001b[0m\u001b[0;34m\u001b[0m\u001b[0;34m\u001b[0m\u001b[0m\n\u001b[0m\u001b[1;32m    651\u001b[0m             \u001b[0mout\u001b[0m \u001b[0;34m=\u001b[0m \u001b[0mX\u001b[0m\u001b[0;34m,\u001b[0m \u001b[0my\u001b[0m\u001b[0;34m\u001b[0m\u001b[0;34m\u001b[0m\u001b[0m\n\u001b[1;32m    652\u001b[0m \u001b[0;34m\u001b[0m\u001b[0m\n",
            "\u001b[0;32m/usr/local/lib/python3.10/dist-packages/sklearn/utils/validation.py\u001b[0m in \u001b[0;36mcheck_X_y\u001b[0;34m(X, y, accept_sparse, accept_large_sparse, dtype, order, copy, force_writeable, force_all_finite, ensure_2d, allow_nd, multi_output, ensure_min_samples, ensure_min_features, y_numeric, estimator)\u001b[0m\n\u001b[1;32m   1299\u001b[0m         )\n\u001b[1;32m   1300\u001b[0m \u001b[0;34m\u001b[0m\u001b[0m\n\u001b[0;32m-> 1301\u001b[0;31m     X = check_array(\n\u001b[0m\u001b[1;32m   1302\u001b[0m         \u001b[0mX\u001b[0m\u001b[0;34m,\u001b[0m\u001b[0;34m\u001b[0m\u001b[0;34m\u001b[0m\u001b[0m\n\u001b[1;32m   1303\u001b[0m         \u001b[0maccept_sparse\u001b[0m\u001b[0;34m=\u001b[0m\u001b[0maccept_sparse\u001b[0m\u001b[0;34m,\u001b[0m\u001b[0;34m\u001b[0m\u001b[0;34m\u001b[0m\u001b[0m\n",
            "\u001b[0;32m/usr/local/lib/python3.10/dist-packages/sklearn/utils/validation.py\u001b[0m in \u001b[0;36mcheck_array\u001b[0;34m(array, accept_sparse, accept_large_sparse, dtype, order, copy, force_writeable, force_all_finite, ensure_2d, allow_nd, ensure_min_samples, ensure_min_features, estimator, input_name)\u001b[0m\n\u001b[1;32m    927\u001b[0m         \u001b[0;31m# Use the original dtype for conversion if dtype is None\u001b[0m\u001b[0;34m\u001b[0m\u001b[0;34m\u001b[0m\u001b[0m\n\u001b[1;32m    928\u001b[0m         \u001b[0mnew_dtype\u001b[0m \u001b[0;34m=\u001b[0m \u001b[0mdtype_orig\u001b[0m \u001b[0;32mif\u001b[0m \u001b[0mdtype\u001b[0m \u001b[0;32mis\u001b[0m \u001b[0;32mNone\u001b[0m \u001b[0;32melse\u001b[0m \u001b[0mdtype\u001b[0m\u001b[0;34m\u001b[0m\u001b[0;34m\u001b[0m\u001b[0m\n\u001b[0;32m--> 929\u001b[0;31m         \u001b[0marray\u001b[0m \u001b[0;34m=\u001b[0m \u001b[0marray\u001b[0m\u001b[0;34m.\u001b[0m\u001b[0mastype\u001b[0m\u001b[0;34m(\u001b[0m\u001b[0mnew_dtype\u001b[0m\u001b[0;34m)\u001b[0m\u001b[0;34m\u001b[0m\u001b[0;34m\u001b[0m\u001b[0m\n\u001b[0m\u001b[1;32m    930\u001b[0m         \u001b[0;31m# Since we converted here, we do not need to convert again later\u001b[0m\u001b[0;34m\u001b[0m\u001b[0;34m\u001b[0m\u001b[0m\n\u001b[1;32m    931\u001b[0m         \u001b[0mdtype\u001b[0m \u001b[0;34m=\u001b[0m \u001b[0;32mNone\u001b[0m\u001b[0;34m\u001b[0m\u001b[0;34m\u001b[0m\u001b[0m\n",
            "\u001b[0;32m/usr/local/lib/python3.10/dist-packages/pandas/core/generic.py\u001b[0m in \u001b[0;36mastype\u001b[0;34m(self, dtype, copy, errors)\u001b[0m\n\u001b[1;32m   6641\u001b[0m         \u001b[0;32melse\u001b[0m\u001b[0;34m:\u001b[0m\u001b[0;34m\u001b[0m\u001b[0;34m\u001b[0m\u001b[0m\n\u001b[1;32m   6642\u001b[0m             \u001b[0;31m# else, only a single dtype is given\u001b[0m\u001b[0;34m\u001b[0m\u001b[0;34m\u001b[0m\u001b[0m\n\u001b[0;32m-> 6643\u001b[0;31m             \u001b[0mnew_data\u001b[0m \u001b[0;34m=\u001b[0m \u001b[0mself\u001b[0m\u001b[0;34m.\u001b[0m\u001b[0m_mgr\u001b[0m\u001b[0;34m.\u001b[0m\u001b[0mastype\u001b[0m\u001b[0;34m(\u001b[0m\u001b[0mdtype\u001b[0m\u001b[0;34m=\u001b[0m\u001b[0mdtype\u001b[0m\u001b[0;34m,\u001b[0m \u001b[0mcopy\u001b[0m\u001b[0;34m=\u001b[0m\u001b[0mcopy\u001b[0m\u001b[0;34m,\u001b[0m \u001b[0merrors\u001b[0m\u001b[0;34m=\u001b[0m\u001b[0merrors\u001b[0m\u001b[0;34m)\u001b[0m\u001b[0;34m\u001b[0m\u001b[0;34m\u001b[0m\u001b[0m\n\u001b[0m\u001b[1;32m   6644\u001b[0m             \u001b[0mres\u001b[0m \u001b[0;34m=\u001b[0m \u001b[0mself\u001b[0m\u001b[0;34m.\u001b[0m\u001b[0m_constructor_from_mgr\u001b[0m\u001b[0;34m(\u001b[0m\u001b[0mnew_data\u001b[0m\u001b[0;34m,\u001b[0m \u001b[0maxes\u001b[0m\u001b[0;34m=\u001b[0m\u001b[0mnew_data\u001b[0m\u001b[0;34m.\u001b[0m\u001b[0maxes\u001b[0m\u001b[0;34m)\u001b[0m\u001b[0;34m\u001b[0m\u001b[0;34m\u001b[0m\u001b[0m\n\u001b[1;32m   6645\u001b[0m             \u001b[0;32mreturn\u001b[0m \u001b[0mres\u001b[0m\u001b[0;34m.\u001b[0m\u001b[0m__finalize__\u001b[0m\u001b[0;34m(\u001b[0m\u001b[0mself\u001b[0m\u001b[0;34m,\u001b[0m \u001b[0mmethod\u001b[0m\u001b[0;34m=\u001b[0m\u001b[0;34m\"astype\"\u001b[0m\u001b[0;34m)\u001b[0m\u001b[0;34m\u001b[0m\u001b[0;34m\u001b[0m\u001b[0m\n",
            "\u001b[0;32m/usr/local/lib/python3.10/dist-packages/pandas/core/internals/managers.py\u001b[0m in \u001b[0;36mastype\u001b[0;34m(self, dtype, copy, errors)\u001b[0m\n\u001b[1;32m    428\u001b[0m             \u001b[0mcopy\u001b[0m \u001b[0;34m=\u001b[0m \u001b[0;32mFalse\u001b[0m\u001b[0;34m\u001b[0m\u001b[0;34m\u001b[0m\u001b[0m\n\u001b[1;32m    429\u001b[0m \u001b[0;34m\u001b[0m\u001b[0m\n\u001b[0;32m--> 430\u001b[0;31m         return self.apply(\n\u001b[0m\u001b[1;32m    431\u001b[0m             \u001b[0;34m\"astype\"\u001b[0m\u001b[0;34m,\u001b[0m\u001b[0;34m\u001b[0m\u001b[0;34m\u001b[0m\u001b[0m\n\u001b[1;32m    432\u001b[0m             \u001b[0mdtype\u001b[0m\u001b[0;34m=\u001b[0m\u001b[0mdtype\u001b[0m\u001b[0;34m,\u001b[0m\u001b[0;34m\u001b[0m\u001b[0;34m\u001b[0m\u001b[0m\n",
            "\u001b[0;32m/usr/local/lib/python3.10/dist-packages/pandas/core/internals/managers.py\u001b[0m in \u001b[0;36mapply\u001b[0;34m(self, f, align_keys, **kwargs)\u001b[0m\n\u001b[1;32m    361\u001b[0m                 \u001b[0mapplied\u001b[0m \u001b[0;34m=\u001b[0m \u001b[0mb\u001b[0m\u001b[0;34m.\u001b[0m\u001b[0mapply\u001b[0m\u001b[0;34m(\u001b[0m\u001b[0mf\u001b[0m\u001b[0;34m,\u001b[0m \u001b[0;34m**\u001b[0m\u001b[0mkwargs\u001b[0m\u001b[0;34m)\u001b[0m\u001b[0;34m\u001b[0m\u001b[0;34m\u001b[0m\u001b[0m\n\u001b[1;32m    362\u001b[0m             \u001b[0;32melse\u001b[0m\u001b[0;34m:\u001b[0m\u001b[0;34m\u001b[0m\u001b[0;34m\u001b[0m\u001b[0m\n\u001b[0;32m--> 363\u001b[0;31m                 \u001b[0mapplied\u001b[0m \u001b[0;34m=\u001b[0m \u001b[0mgetattr\u001b[0m\u001b[0;34m(\u001b[0m\u001b[0mb\u001b[0m\u001b[0;34m,\u001b[0m \u001b[0mf\u001b[0m\u001b[0;34m)\u001b[0m\u001b[0;34m(\u001b[0m\u001b[0;34m**\u001b[0m\u001b[0mkwargs\u001b[0m\u001b[0;34m)\u001b[0m\u001b[0;34m\u001b[0m\u001b[0;34m\u001b[0m\u001b[0m\n\u001b[0m\u001b[1;32m    364\u001b[0m             \u001b[0mresult_blocks\u001b[0m \u001b[0;34m=\u001b[0m \u001b[0mextend_blocks\u001b[0m\u001b[0;34m(\u001b[0m\u001b[0mapplied\u001b[0m\u001b[0;34m,\u001b[0m \u001b[0mresult_blocks\u001b[0m\u001b[0;34m)\u001b[0m\u001b[0;34m\u001b[0m\u001b[0;34m\u001b[0m\u001b[0m\n\u001b[1;32m    365\u001b[0m \u001b[0;34m\u001b[0m\u001b[0m\n",
            "\u001b[0;32m/usr/local/lib/python3.10/dist-packages/pandas/core/internals/blocks.py\u001b[0m in \u001b[0;36mastype\u001b[0;34m(self, dtype, copy, errors, using_cow, squeeze)\u001b[0m\n\u001b[1;32m    756\u001b[0m             \u001b[0mvalues\u001b[0m \u001b[0;34m=\u001b[0m \u001b[0mvalues\u001b[0m\u001b[0;34m[\u001b[0m\u001b[0;36m0\u001b[0m\u001b[0;34m,\u001b[0m \u001b[0;34m:\u001b[0m\u001b[0;34m]\u001b[0m  \u001b[0;31m# type: ignore[call-overload]\u001b[0m\u001b[0;34m\u001b[0m\u001b[0;34m\u001b[0m\u001b[0m\n\u001b[1;32m    757\u001b[0m \u001b[0;34m\u001b[0m\u001b[0m\n\u001b[0;32m--> 758\u001b[0;31m         \u001b[0mnew_values\u001b[0m \u001b[0;34m=\u001b[0m \u001b[0mastype_array_safe\u001b[0m\u001b[0;34m(\u001b[0m\u001b[0mvalues\u001b[0m\u001b[0;34m,\u001b[0m \u001b[0mdtype\u001b[0m\u001b[0;34m,\u001b[0m \u001b[0mcopy\u001b[0m\u001b[0;34m=\u001b[0m\u001b[0mcopy\u001b[0m\u001b[0;34m,\u001b[0m \u001b[0merrors\u001b[0m\u001b[0;34m=\u001b[0m\u001b[0merrors\u001b[0m\u001b[0;34m)\u001b[0m\u001b[0;34m\u001b[0m\u001b[0;34m\u001b[0m\u001b[0m\n\u001b[0m\u001b[1;32m    759\u001b[0m \u001b[0;34m\u001b[0m\u001b[0m\n\u001b[1;32m    760\u001b[0m         \u001b[0mnew_values\u001b[0m \u001b[0;34m=\u001b[0m \u001b[0mmaybe_coerce_values\u001b[0m\u001b[0;34m(\u001b[0m\u001b[0mnew_values\u001b[0m\u001b[0;34m)\u001b[0m\u001b[0;34m\u001b[0m\u001b[0;34m\u001b[0m\u001b[0m\n",
            "\u001b[0;32m/usr/local/lib/python3.10/dist-packages/pandas/core/dtypes/astype.py\u001b[0m in \u001b[0;36mastype_array_safe\u001b[0;34m(values, dtype, copy, errors)\u001b[0m\n\u001b[1;32m    235\u001b[0m \u001b[0;34m\u001b[0m\u001b[0m\n\u001b[1;32m    236\u001b[0m     \u001b[0;32mtry\u001b[0m\u001b[0;34m:\u001b[0m\u001b[0;34m\u001b[0m\u001b[0;34m\u001b[0m\u001b[0m\n\u001b[0;32m--> 237\u001b[0;31m         \u001b[0mnew_values\u001b[0m \u001b[0;34m=\u001b[0m \u001b[0mastype_array\u001b[0m\u001b[0;34m(\u001b[0m\u001b[0mvalues\u001b[0m\u001b[0;34m,\u001b[0m \u001b[0mdtype\u001b[0m\u001b[0;34m,\u001b[0m \u001b[0mcopy\u001b[0m\u001b[0;34m=\u001b[0m\u001b[0mcopy\u001b[0m\u001b[0;34m)\u001b[0m\u001b[0;34m\u001b[0m\u001b[0;34m\u001b[0m\u001b[0m\n\u001b[0m\u001b[1;32m    238\u001b[0m     \u001b[0;32mexcept\u001b[0m \u001b[0;34m(\u001b[0m\u001b[0mValueError\u001b[0m\u001b[0;34m,\u001b[0m \u001b[0mTypeError\u001b[0m\u001b[0;34m)\u001b[0m\u001b[0;34m:\u001b[0m\u001b[0;34m\u001b[0m\u001b[0;34m\u001b[0m\u001b[0m\n\u001b[1;32m    239\u001b[0m         \u001b[0;31m# e.g. _astype_nansafe can fail on object-dtype of strings\u001b[0m\u001b[0;34m\u001b[0m\u001b[0;34m\u001b[0m\u001b[0m\n",
            "\u001b[0;32m/usr/local/lib/python3.10/dist-packages/pandas/core/dtypes/astype.py\u001b[0m in \u001b[0;36mastype_array\u001b[0;34m(values, dtype, copy)\u001b[0m\n\u001b[1;32m    180\u001b[0m \u001b[0;34m\u001b[0m\u001b[0m\n\u001b[1;32m    181\u001b[0m     \u001b[0;32melse\u001b[0m\u001b[0;34m:\u001b[0m\u001b[0;34m\u001b[0m\u001b[0;34m\u001b[0m\u001b[0m\n\u001b[0;32m--> 182\u001b[0;31m         \u001b[0mvalues\u001b[0m \u001b[0;34m=\u001b[0m \u001b[0m_astype_nansafe\u001b[0m\u001b[0;34m(\u001b[0m\u001b[0mvalues\u001b[0m\u001b[0;34m,\u001b[0m \u001b[0mdtype\u001b[0m\u001b[0;34m,\u001b[0m \u001b[0mcopy\u001b[0m\u001b[0;34m=\u001b[0m\u001b[0mcopy\u001b[0m\u001b[0;34m)\u001b[0m\u001b[0;34m\u001b[0m\u001b[0;34m\u001b[0m\u001b[0m\n\u001b[0m\u001b[1;32m    183\u001b[0m \u001b[0;34m\u001b[0m\u001b[0m\n\u001b[1;32m    184\u001b[0m     \u001b[0;31m# in pandas we don't store numpy str dtypes, so convert to object\u001b[0m\u001b[0;34m\u001b[0m\u001b[0;34m\u001b[0m\u001b[0m\n",
            "\u001b[0;32m/usr/local/lib/python3.10/dist-packages/pandas/core/dtypes/astype.py\u001b[0m in \u001b[0;36m_astype_nansafe\u001b[0;34m(arr, dtype, copy, skipna)\u001b[0m\n\u001b[1;32m    131\u001b[0m     \u001b[0;32mif\u001b[0m \u001b[0mcopy\u001b[0m \u001b[0;32mor\u001b[0m \u001b[0marr\u001b[0m\u001b[0;34m.\u001b[0m\u001b[0mdtype\u001b[0m \u001b[0;34m==\u001b[0m \u001b[0mobject\u001b[0m \u001b[0;32mor\u001b[0m \u001b[0mdtype\u001b[0m \u001b[0;34m==\u001b[0m \u001b[0mobject\u001b[0m\u001b[0;34m:\u001b[0m\u001b[0;34m\u001b[0m\u001b[0;34m\u001b[0m\u001b[0m\n\u001b[1;32m    132\u001b[0m         \u001b[0;31m# Explicit copy, or required since NumPy can't view from / to object.\u001b[0m\u001b[0;34m\u001b[0m\u001b[0;34m\u001b[0m\u001b[0m\n\u001b[0;32m--> 133\u001b[0;31m         \u001b[0;32mreturn\u001b[0m \u001b[0marr\u001b[0m\u001b[0;34m.\u001b[0m\u001b[0mastype\u001b[0m\u001b[0;34m(\u001b[0m\u001b[0mdtype\u001b[0m\u001b[0;34m,\u001b[0m \u001b[0mcopy\u001b[0m\u001b[0;34m=\u001b[0m\u001b[0;32mTrue\u001b[0m\u001b[0;34m)\u001b[0m\u001b[0;34m\u001b[0m\u001b[0;34m\u001b[0m\u001b[0m\n\u001b[0m\u001b[1;32m    134\u001b[0m \u001b[0;34m\u001b[0m\u001b[0m\n\u001b[1;32m    135\u001b[0m     \u001b[0;32mreturn\u001b[0m \u001b[0marr\u001b[0m\u001b[0;34m.\u001b[0m\u001b[0mastype\u001b[0m\u001b[0;34m(\u001b[0m\u001b[0mdtype\u001b[0m\u001b[0;34m,\u001b[0m \u001b[0mcopy\u001b[0m\u001b[0;34m=\u001b[0m\u001b[0mcopy\u001b[0m\u001b[0;34m)\u001b[0m\u001b[0;34m\u001b[0m\u001b[0;34m\u001b[0m\u001b[0m\n",
            "\u001b[0;31mValueError\u001b[0m: setting an array element with a sequence."
          ]
        }
      ]
    },
    {
      "cell_type": "code",
      "source": [
        "from sklearn.metrics import accuracy_score\n",
        "preds = lr_cv.predict(X_test)\n",
        "print(\"accuracy: \", accuracy_score(Y_test, preds))"
      ],
      "metadata": {
        "id": "Zgm0oxbs8a0a"
      },
      "id": "Zgm0oxbs8a0a",
      "execution_count": null,
      "outputs": []
    }
  ],
  "metadata": {
    "kernelspec": {
      "display_name": "Python 3",
      "language": "python",
      "name": "python3"
    },
    "language_info": {
      "codemirror_mode": {
        "name": "ipython",
        "version": 2
      },
      "file_extension": ".py",
      "mimetype": "text/x-python",
      "name": "python",
      "nbconvert_exporter": "python",
      "pygments_lexer": "ipython2",
      "version": "2.7.6"
    },
    "colab": {
      "provenance": [],
      "include_colab_link": true
    }
  },
  "nbformat": 4,
  "nbformat_minor": 5
}